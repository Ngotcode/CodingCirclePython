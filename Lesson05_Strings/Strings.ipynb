{
 "cells": [
  {
   "cell_type": "markdown",
   "metadata": {},
   "source": [
    "# Strings\n",
    "\n",
    "A sting is a sequence of characters. A string's characters can be treated similarly to a list. Each character has an index starting at 0 and can be accessed just like a list\n",
    "\n",
    "    my_str = \"M y   S t r i n g\"\n",
    "    #index    0 1 2 3 4 5 6 7 8\n",
    "    \n",
    "    print my_str[0]\n"
   ]
  },
  {
   "cell_type": "code",
   "execution_count": null,
   "metadata": {},
   "outputs": [],
   "source": [
    "chinese_zodiac = \"Rat Ox Tiger Rabbit Dragon Snake Horse Goat Monkey Rooster Dog Pig\"\n",
    "print(chinese_zodiac[0])\n",
    "print(chinese_zodiac[1])"
   ]
  },
  {
   "cell_type": "markdown",
   "metadata": {},
   "source": [
    "### TRY IT\n",
    "Create a string with the 5 elements of the Chinese zodiac (wood fire earth metal water) and store it in a variable called elements. Get the 4th letter of elements."
   ]
  },
  {
   "cell_type": "code",
   "execution_count": null,
   "metadata": {},
   "outputs": [],
   "source": []
  },
  {
   "cell_type": "markdown",
   "metadata": {},
   "source": [
    "You can get the length (number of characters) of a string by using the len operator\n",
    "\n",
    "    len(my_string)"
   ]
  },
  {
   "cell_type": "code",
   "execution_count": null,
   "metadata": {},
   "outputs": [],
   "source": [
    "print(len(chinese_zodiac))"
   ]
  },
  {
   "cell_type": "markdown",
   "metadata": {},
   "source": [
    "Be careful with length, it is the number of characters, not the last index.\n",
    "\n",
    "The last index is len(string) - 1"
   ]
  },
  {
   "cell_type": "code",
   "execution_count": null,
   "metadata": {},
   "outputs": [],
   "source": [
    "zlen = len(chinese_zodiac)\n",
    "# WRONG\n",
    "print(chinese_zodiac[zlen])\n",
    "# RIGHT\n",
    "print(chinese_zodiac[zlen - 1])"
   ]
  },
  {
   "cell_type": "markdown",
   "metadata": {},
   "source": [
    "But actually you can use negative indexing to get the last character in a string. -1 is the last character, -2 is the second to last and so on. \n",
    "\n",
    "Wondering why negative indexing starts with -1 and not 0? It's because -0 and 0 are the same thing, so you would just get the first character."
   ]
  },
  {
   "cell_type": "code",
   "execution_count": null,
   "metadata": {},
   "outputs": [],
   "source": [
    "print(chinese_zodiac[-1])"
   ]
  },
  {
   "cell_type": "markdown",
   "metadata": {},
   "source": [
    "### TRY IT\n",
    "Create a string with your name and store it in a variable called name. Print the last character of your name using both indexing methods (positive and negative)."
   ]
  },
  {
   "cell_type": "code",
   "execution_count": null,
   "metadata": {},
   "outputs": [],
   "source": []
  },
  {
   "cell_type": "markdown",
   "metadata": {},
   "source": [
    "### String Slices\n",
    "You can take more than a single character; you can take a whole slice. To take a slice, give the first index and then the last index + 1. (The first index is inclusive, second index is exclusive)\n",
    "\n",
    "    string[0:5]"
   ]
  },
  {
   "cell_type": "code",
   "execution_count": null,
   "metadata": {},
   "outputs": [],
   "source": [
    "second_animal = chinese_zodiac[4:6]\n",
    "print(second_animal)"
   ]
  },
  {
   "cell_type": "markdown",
   "metadata": {},
   "source": [
    "You can omit the first index and it will start at the beginning, you can omit the last index and it will go to the end."
   ]
  },
  {
   "cell_type": "code",
   "execution_count": null,
   "metadata": {},
   "outputs": [],
   "source": [
    "first_six = chinese_zodiac[:32]\n",
    "print(first_six)\n",
    "\n",
    "last_six = chinese_zodiac[33:]\n",
    "print(last_six)"
   ]
  },
  {
   "cell_type": "markdown",
   "metadata": {},
   "source": [
    "### TRY IT\n",
    "What happens when you omit both indices? Try it on the chinese_zodiac."
   ]
  },
  {
   "cell_type": "code",
   "execution_count": null,
   "metadata": {},
   "outputs": [],
   "source": []
  },
  {
   "cell_type": "markdown",
   "metadata": {},
   "source": [
    "## Immutable strings\n",
    "\n",
    "Strings are immutable. You cannot change their contents; you must make a new string."
   ]
  },
  {
   "cell_type": "code",
   "execution_count": null,
   "metadata": {},
   "outputs": [],
   "source": [
    "# This will fail\n",
    "chinese_zodiac[0] = 'A'"
   ]
  },
  {
   "cell_type": "code",
   "execution_count": null,
   "metadata": {},
   "outputs": [],
   "source": [
    "# This is better\n",
    "print(chinese_zodiac)\n",
    "chinese_zodiac_minus_r = chinese_zodiac[1:]\n",
    "print(chinese_zodiac_minus_r)\n",
    "\n",
    "ate_the_rat = \"C\" + chinese_zodiac_minus_r\n",
    "print(ate_the_rat)"
   ]
  },
  {
   "cell_type": "markdown",
   "metadata": {},
   "source": [
    "## Strings and in\n",
    "\n",
    "The in operator checks if a substring is in a string. It returns a boolean.\n",
    "\n",
    "    'substring' in 'string'\n",
    "    \n",
    "**Hint** case matters"
   ]
  },
  {
   "cell_type": "code",
   "execution_count": null,
   "metadata": {},
   "outputs": [],
   "source": [
    "print('Cat in zodiac:') \n",
    "print('Cat' in chinese_zodiac)\n",
    "\n",
    "print('Dragon in zodiac:')\n",
    "print('Dragon' in chinese_zodiac)"
   ]
  },
  {
   "cell_type": "markdown",
   "metadata": {},
   "source": [
    "## Looping through strings\n",
    "\n",
    "You can loop through each character in a string using a for loop (or a while loop, but that is more straightforward)\n",
    "\n",
    "    for character in string:\n",
    "        print character"
   ]
  },
  {
   "cell_type": "code",
   "execution_count": null,
   "metadata": {},
   "outputs": [],
   "source": [
    "for character in 'Rat':\n",
    "    print(character)"
   ]
  },
  {
   "cell_type": "code",
   "execution_count": null,
   "metadata": {},
   "outputs": [],
   "source": [
    "# Print only vowels\n",
    "for letter in 'ABCDEFGHIJKLMNOPQRSTUVWXYZ':\n",
    "    if letter in 'AEIOUY':\n",
    "        print(letter)"
   ]
  },
  {
   "cell_type": "markdown",
   "metadata": {},
   "source": [
    "### TRY IT\n",
    "Loop through the chinese zodiac characters, printing only letters that are in you name"
   ]
  },
  {
   "cell_type": "code",
   "execution_count": null,
   "metadata": {},
   "outputs": [],
   "source": []
  },
  {
   "cell_type": "markdown",
   "metadata": {},
   "source": [
    "## String Comparison\n",
    "\n",
    "You can compare strings using the `==`, `>`, `>=`, `<`, and `<=` operators. \n",
    "\n",
    "Numbers come first, then capital letters and then lowercase letters. They are actually sorted based on their ascii value http://ascii.cl/"
   ]
  },
  {
   "cell_type": "code",
   "execution_count": null,
   "metadata": {},
   "outputs": [],
   "source": [
    "print('A' > 'a')\n",
    "print('A' < 'a')\n",
    "print('A' > 'B')\n",
    "print('0' > 'A')"
   ]
  },
  {
   "cell_type": "code",
   "execution_count": null,
   "metadata": {},
   "outputs": [],
   "source": [
    "# Case matters in equality\n",
    "print(('cat' == 'Cat'))\n",
    "print(('cat' == 'cat'))"
   ]
  },
  {
   "cell_type": "markdown",
   "metadata": {},
   "source": [
    "## String Methods\n",
    "There are several built in methods you can use on your strings. To find them all use dir(str). \n",
    "\n",
    "    'my string'.method_name(params)"
   ]
  },
  {
   "cell_type": "code",
   "execution_count": null,
   "metadata": {},
   "outputs": [],
   "source": [
    "dir(chinese_zodiac)"
   ]
  },
  {
   "cell_type": "markdown",
   "metadata": {},
   "source": [
    "lower, upper, title, capitalize, and swapcase all change the case of the string\n",
    "\n",
    "HINT: use one of these methods to transform input to functions so that you don't have to worry about what case the user's input is in "
   ]
  },
  {
   "cell_type": "code",
   "execution_count": null,
   "metadata": {},
   "outputs": [],
   "source": [
    "print(chinese_zodiac.lower())\n",
    "print(chinese_zodiac.upper())"
   ]
  },
  {
   "cell_type": "markdown",
   "metadata": {},
   "source": [
    "The `split` method slices the string into a list  \n",
    "It takes one parameter, the character(s) to split on\n",
    "\n",
    "    my_str.split(slice_string)\n",
    "\n",
    "And the `join` method merges a list into a string\n",
    "It operates on the 'glue' string, and the list is the parameter\n",
    "\n",
    "    glue_string.join(my_list)"
   ]
  },
  {
   "cell_type": "code",
   "execution_count": null,
   "metadata": {},
   "outputs": [],
   "source": [
    "cz_list = chinese_zodiac.split(' ')\n",
    "print(cz_list)\n",
    "\n",
    "print(', '.join(cz_list))"
   ]
  },
  {
   "cell_type": "markdown",
   "metadata": {},
   "source": [
    "The `find` method finds the index of a substring (and -1 if it doesn't exist) (_Why -1 and not 0?_)\n",
    "\n",
    "`count` counts the occurrence of a substring\n",
    "\n",
    "`startswith` and `endswith` checks if a string starts or ends with a given substring and returns a boolean"
   ]
  },
  {
   "cell_type": "code",
   "execution_count": null,
   "metadata": {},
   "outputs": [],
   "source": [
    "print(chinese_zodiac.find('Snake'))\n",
    "\n",
    "print(chinese_zodiac.count('at'))\n",
    "\n",
    "print(chinese_zodiac.startswith('Ra'))"
   ]
  },
  {
   "cell_type": "markdown",
   "metadata": {},
   "source": [
    "You can chain some string methods if the method also returns a string"
   ]
  },
  {
   "cell_type": "code",
   "execution_count": null,
   "metadata": {},
   "outputs": [],
   "source": [
    "print(''.join(cz_list).lower().startswith('ra'))"
   ]
  },
  {
   "cell_type": "markdown",
   "metadata": {},
   "source": [
    "### TRY IT\n",
    "Change the case of your elements string to upper case and then split the result on spaces (' ')\n",
    "\n",
    "** Challenge ** do this by chaining string methods"
   ]
  },
  {
   "cell_type": "code",
   "execution_count": null,
   "metadata": {},
   "outputs": [],
   "source": []
  },
  {
   "cell_type": "markdown",
   "metadata": {},
   "source": [
    "## Parsing Strings\n",
    "\n",
    "You can use string methods and indexing to get exactly the substring you want."
   ]
  },
  {
   "cell_type": "code",
   "execution_count": null,
   "metadata": {},
   "outputs": [],
   "source": [
    "# Lets find the zodiac animals between Ox and Monkey\n",
    "ox_idx = chinese_zodiac.find('Ox')\n",
    "monkey_idx = chinese_zodiac.find('Monkey')\n",
    "\n",
    "print(chinese_zodiac[ox_idx:monkey_idx])"
   ]
  },
  {
   "cell_type": "code",
   "execution_count": null,
   "metadata": {},
   "outputs": [],
   "source": [
    "# Wait, I wanted to exclude Ox\n",
    "ox_end = ox_idx + len('Ox ')\n",
    "print(chinese_zodiac[ox_end:monkey_idx])"
   ]
  },
  {
   "cell_type": "markdown",
   "metadata": {},
   "source": [
    "### TRY IT\n",
    "Use string parsing strategies to extract the host name (in this case gmail) from the email address. (And no, just counting, doesn't count)"
   ]
  },
  {
   "cell_type": "code",
   "execution_count": null,
   "metadata": {},
   "outputs": [],
   "source": [
    "email = 'my.name@gmail.com'"
   ]
  },
  {
   "cell_type": "markdown",
   "metadata": {},
   "source": [
    "## Formatting\n",
    "\n",
    "String concatenation gets old really fast, and casting numbers and booleans as strings does too. Luckily, there is a better option.\n",
    "\n",
    "String formatting allows you to include variables directly in you string.\n",
    "    \n",
    "    'string {var} '.format(var1)\n",
    "\n",
    "Each parameter passed to format has an index and can be accessed in the string using {idx}. They don't have to be in order and can be repeated"
   ]
  },
  {
   "cell_type": "code",
   "execution_count": null,
   "metadata": {},
   "outputs": [],
   "source": [
    "print('The {0} has {1} toes per limb and thus is considered {2}'.format('ox', 4, 'yin'))\n",
    "print('The {0} has {1} toes per limb and thus is considered {2}'.format('tiger', 5, 'yang'))\n",
    "\n",
    "# I learned something when creating this notebook"
   ]
  },
  {
   "cell_type": "markdown",
   "metadata": {},
   "source": [
    "You don't have to put the elements in the correct order"
   ]
  },
  {
   "cell_type": "code",
   "execution_count": null,
   "metadata": {},
   "outputs": [],
   "source": [
    "print('The {1} has {0} toes per limb and thus is considered {2}'.format('ox', 4, 'yin'))\n",
    "print('The {2} has {2} toes per limb and thus is considered {2}'.format('tiger', 5, 'yang'))"
   ]
  },
  {
   "cell_type": "markdown",
   "metadata": {},
   "source": [
    "You can also use variable names. In the parameters use a dictionary (you'll learn about these soon) or key=value syntax."
   ]
  },
  {
   "cell_type": "code",
   "execution_count": null,
   "metadata": {},
   "outputs": [],
   "source": [
    "\"The {animal}'s attribute is {attribute}\".format(animal='snake', attribute='flexibility')"
   ]
  },
  {
   "cell_type": "markdown",
   "metadata": {},
   "source": [
    "You can even format the variables in various ways. Reference the docs for everything, there is just too much you can do and I only have so much time to show you.\n",
    "\n",
    "https://docs.python.org/3.4/library/string.html"
   ]
  },
  {
   "cell_type": "code",
   "execution_count": null,
   "metadata": {},
   "outputs": [],
   "source": [
    "print('{:<30}'.format('left aligned'))\n",
    "print('{:>30}'.format('right aligned'))\n",
    "print('{:0.2f}; {:0.7f}'.format(3.14, -3.14)) "
   ]
  },
  {
   "cell_type": "markdown",
   "metadata": {},
   "source": [
    "### TRY IT\n",
    "Use string formatting to make a sentence \"[Your name] finds string formatting [difficulty level]\""
   ]
  },
  {
   "cell_type": "code",
   "execution_count": null,
   "metadata": {},
   "outputs": [],
   "source": []
  },
  {
   "cell_type": "markdown",
   "metadata": {},
   "source": [
    "# PROJECT: DNA EXTRAVAGANZA\n",
    "\n",
    "You are going to create a program that does some very simple bioinformatics functions on a DNA input.\n",
    "\n",
    "## Background\n",
    "A little bit of molecular biology. Codons are non-overlapping triplets of nucleotides. \n",
    "\n",
    "    ATG CCC CTG GTA ... - this corresponds to four codons; spaces added for emphasis\n",
    "\n",
    "The start codon is 'ATG'\n",
    "\n",
    "Stop codons can be 'TGA' , 'TAA', or 'TAG', but they must be 'in frame' with the start codon. The first stop codon usually determines the end of the gene. \n",
    "In other words:\n",
    "\n",
    "    'ATGCCTGA...' - here TGA is not a stop codon, because the T is part of CCT\n",
    "    'ATGCCTTGA...' - here TGA is a stop codon because it is in frame (i.e. a multiple of 3 nucleic acids from ATG)\n",
    "\n",
    "The gene is start codon to stop codon, inclusive \n",
    "Example:\n",
    "\n",
    "    dna - GGCATGAAAGTCAGGGCAGAGCCATCTATTTGAGCTTAC\n",
    "    gene - ATGAAAGTCAGGGCAGAGCCATCTATTTGA\n",
    "\n",
    "## Instructions\n",
    "1. Write a function called `numCodons` that takes a dna string and returns to you how many codons are in it (a codon is a group of 3 DNA bases). Examples: AAACCC -> 2  GT -> 0\n",
    "2. Write a function called `startCodonIndex` which finds the index of the first start codon 'ATG' and returns -1 if none are found.\n",
    "3. Write a function called `stopCodonIndex` which finds the index of the first stop codon 'TAA' or 'TAG' or 'TGA' in frame with the start codon (found from `startCodonIndex`) and returns -1 if none are found.\n",
    "4. Write a function called `codingDNA` which returns the substring of the DNA from the beginning of the start codon to the end of the stop codon (please for the love of all things, use the functions you already wrote to calculate start and stop)\n",
    "5. Write a function called `transcription` that takes the DNA and translates it to RNA. Each letter should be translated using these mappings (A->U), (T->A), (C->G), (G->C).\n",
    "6. Write a function called `DNAExtravaganza` that calls your functions and prints out (using string formatting)\n",
    "\n",
    "    DNA: [DNA]\n",
    "    \n",
    "    CODONS: [Number of codons]\n",
    "    \n",
    "    START: [start index]\n",
    "    \n",
    "    STOP: [stop index]\n",
    "    \n",
    "    CODING DNA: [coding DNA string]\n",
    "    \n",
    "    TRANSCRIBED RNA: [transcribed DNA]\n",
    "    \n",
    "\n",
    "You can use these as test DNA string:\n",
    "  \n",
    "       dna='GGCATGAAAGTCAGGGCAGAGCCATCTATTGCTTACATTTGCTTCTGACACAACTGTGTTCACTAGCAACCTCAAACAGACACCATGGTGCACCTGACTCCTGAGGAGAAGTCTGCCGTTACTGCCCTGTGGGGCAAGGTGAACGTGGATGAAGTTGGTGGTGAGGCCCTGGGCAGGTTGGTATCAAGGTTACAAGACAGGTTTAAGGAGACCAATAGAAACTGGGCATGTGGAGACAGAGAAGACTCTTGGGTTTCTGATAGGCACTGACTCTCTCTGCCTATTGGTCTATTTTCCCACCCTTAGGCTGCTGGTGGTCTACCCTTGGACCCAGAGGTTCTTTGAGTCCTTTGGGGATCTGTCCACTCCTGATGCTGTTATGGGCAACCCTAAGGTGAAGGCTCATGGCAAGAAAGTGCTCGGTGCCTTTAGTGATGGCCTGGCTCACCTGGACAACCTCAAGGGCACCTTTGCCACACTGAGTGAGCTGCACTGTGACAAGCTGCACGTGGATCCTGAGAACTTCAGGGTGAGTCTATGGGACCCTTGATGTTTTCTTTCCCCTTCTTTTCTATGGTTAAGTTCATGTCATAGGAAGGGGAGAAGTAACAGGGTACAGTTTAGAATGGGAAACAGACGAATGATT'\n",
    "        \n",
    "        dna = 'GGGATGTTTGGGCCCTACGGGCCCTGATCGGCT'\n"
   ]
  },
  {
   "cell_type": "code",
   "execution_count": null,
   "metadata": {
    "collapsed": true
   },
   "outputs": [],
   "source": []
  }
 ],
 "metadata": {
  "anaconda-cloud": {},
  "kernelspec": {
   "display_name": "Python 3",
   "language": "python",
   "name": "python3"
  },
  "language_info": {
   "codemirror_mode": {
    "name": "ipython",
    "version": 3
   },
   "file_extension": ".py",
   "mimetype": "text/x-python",
   "name": "python",
   "nbconvert_exporter": "python",
   "pygments_lexer": "ipython3",
   "version": "3.6.1"
  }
 },
 "nbformat": 4,
 "nbformat_minor": 1
}
