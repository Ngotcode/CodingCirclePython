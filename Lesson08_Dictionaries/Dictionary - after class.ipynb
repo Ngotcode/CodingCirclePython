{
 "cells": [
  {
   "cell_type": "markdown",
   "metadata": {},
   "source": [
    "# Dictionaries\n",
    "\n",
    "A dictionary is datatype that contains a series of key-value pairs. It is similar to a list except for that the indices of the values can be strings, tuples, etc. not just integers. It is also different in that it is unordered. You cannot expect to get the keys in the same order out as you put them in.\n",
    "\n",
    "To create a dictionary:\n",
    "\n",
    "    my_dict = { key1: value1, key2: value2 }\n",
    "\n",
    "Creating an empty dictionary\n",
    "\n",
    "    my_dict = {} \n",
    "    my_dict = dict()\n",
    "\n"
   ]
  },
  {
   "cell_type": "code",
   "execution_count": 21,
   "metadata": {},
   "outputs": [
    {
     "name": "stdout",
     "output_type": "stream",
     "text": [
      "<class 'dict'>\n",
      "{'raspberry': 'May', 'apple': 'September', 'peach': 'July', 'grape': 'August'}\n"
     ]
    }
   ],
   "source": [
    "fruit_season = {\n",
    "    'raspberry': 'May',\n",
    "    'apple'    : 'September',\n",
    "    'peach'    : 'July',\n",
    "    'grape'    : 'August'\n",
    "} \n",
    "\n",
    "print(type(fruit_season))\n",
    "print(fruit_season)"
   ]
  },
  {
   "cell_type": "markdown",
   "metadata": {},
   "source": [
    "To access a value, you index into it similarly to a list using square brackets.\n",
    "\n",
    "    value_of_key1 = my_dict['key1'] "
   ]
  },
  {
   "cell_type": "code",
   "execution_count": 19,
   "metadata": {},
   "outputs": [
    {
     "name": "stdout",
     "output_type": "stream",
     "text": [
      "May\n"
     ]
    }
   ],
   "source": [
    "raspberry_season = fruit_season['raspberry']\n",
    "print(raspberry_season)"
   ]
  },
  {
   "cell_type": "markdown",
   "metadata": {},
   "source": [
    "Trying to access a key not in the dictionary throws an error"
   ]
  },
  {
   "cell_type": "code",
   "execution_count": 22,
   "metadata": {},
   "outputs": [
    {
     "ename": "KeyError",
     "evalue": "'mangos'",
     "output_type": "error",
     "traceback": [
      "\u001b[0;31m---------------------------------------------------------------------------\u001b[0m",
      "\u001b[0;31mKeyError\u001b[0m                                  Traceback (most recent call last)",
      "\u001b[0;32m<ipython-input-22-8d98b83019d8>\u001b[0m in \u001b[0;36m<module>\u001b[0;34m()\u001b[0m\n\u001b[0;32m----> 1\u001b[0;31m \u001b[0mprint\u001b[0m\u001b[0;34m(\u001b[0m\u001b[0mfruit_season\u001b[0m\u001b[0;34m[\u001b[0m\u001b[0;34m'mangos'\u001b[0m\u001b[0;34m]\u001b[0m\u001b[0;34m)\u001b[0m\u001b[0;34m\u001b[0m\u001b[0m\n\u001b[0m",
      "\u001b[0;31mKeyError\u001b[0m: 'mangos'"
     ]
    }
   ],
   "source": [
    "print(fruit_season['mangos'])"
   ]
  },
  {
   "cell_type": "markdown",
   "metadata": {},
   "source": [
    "To add an item to the dictionary set the value equal to the indexed keys\n",
    "\n",
    "    dict['new_key'] = value"
   ]
  },
  {
   "cell_type": "code",
   "execution_count": 23,
   "metadata": {},
   "outputs": [
    {
     "name": "stdout",
     "output_type": "stream",
     "text": [
      "{'raspberry': 'May', 'apple': 'September', 'peach': 'July', 'grape': 'August', 'strawberry': 'May'}\n"
     ]
    }
   ],
   "source": [
    "fruit_season['strawberry'] = 'May'\n",
    "print(fruit_season)"
   ]
  },
  {
   "cell_type": "code",
   "execution_count": 26,
   "metadata": {},
   "outputs": [
    {
     "ename": "KeyError",
     "evalue": "'strawberry'",
     "output_type": "error",
     "traceback": [
      "\u001b[0;31m---------------------------------------------------------------------------\u001b[0m",
      "\u001b[0;31mKeyError\u001b[0m                                  Traceback (most recent call last)",
      "\u001b[0;32m<ipython-input-26-1c85e13ddc41>\u001b[0m in \u001b[0;36m<module>\u001b[0;34m()\u001b[0m\n\u001b[0;32m----> 1\u001b[0;31m \u001b[0mfruit_season\u001b[0m\u001b[0;34m[\u001b[0m\u001b[0;34m'strawberry'\u001b[0m\u001b[0;34m]\u001b[0m\u001b[0;34m\u001b[0m\u001b[0m\n\u001b[0m",
      "\u001b[0;31mKeyError\u001b[0m: 'strawberry'"
     ]
    }
   ],
   "source": [
    "fruit_season['strawberry']"
   ]
  },
  {
   "cell_type": "markdown",
   "metadata": {},
   "source": [
    "To delete a key, use the del keyword\n",
    "\n",
    "    del dict['key to delete']"
   ]
  },
  {
   "cell_type": "code",
   "execution_count": 25,
   "metadata": {},
   "outputs": [
    {
     "name": "stdout",
     "output_type": "stream",
     "text": [
      "{'raspberry': 'May', 'apple': 'September', 'peach': 'July', 'grape': 'August'}\n"
     ]
    }
   ],
   "source": [
    "del fruit_season['strawberry']\n",
    "print(fruit_season)"
   ]
  },
  {
   "cell_type": "markdown",
   "metadata": {},
   "source": [
    "### Rules on keys\n",
    "Keys in dictionary must be unique. If you try to make a duplicate key, the data will be overwritten\n",
    "\n",
    "Keys must be hashable. What this means is they must come from immutable values and be comparable. You can use strings, numbers, tuples, sets, (most) objects. You cannot use lists or dictionaries as keys."
   ]
  },
  {
   "cell_type": "code",
   "execution_count": 29,
   "metadata": {},
   "outputs": [
    {
     "name": "stdout",
     "output_type": "stream",
     "text": [
      "{'raspberry': 'June'}\n"
     ]
    }
   ],
   "source": [
    "duplicate_fruit_season = {\n",
    "    'raspberry': 'May',\n",
    "    'raspberry': 'June',\n",
    "} \n",
    "print(duplicate_fruit_season)"
   ]
  },
  {
   "cell_type": "code",
   "execution_count": 30,
   "metadata": {},
   "outputs": [
    {
     "ename": "TypeError",
     "evalue": "unhashable type: 'list'",
     "output_type": "error",
     "traceback": [
      "\u001b[0;31m---------------------------------------------------------------------------\u001b[0m",
      "\u001b[0;31mTypeError\u001b[0m                                 Traceback (most recent call last)",
      "\u001b[0;32m<ipython-input-30-97aea843dd8d>\u001b[0m in \u001b[0;36m<module>\u001b[0;34m()\u001b[0m\n\u001b[1;32m      1\u001b[0m mutable_key = {\n\u001b[0;32m----> 2\u001b[0;31m     \u001b[0;34m[\u001b[0m\u001b[0;34m'watermelon'\u001b[0m\u001b[0;34m,\u001b[0m \u001b[0;34m'cantaloupe'\u001b[0m\u001b[0;34m,\u001b[0m \u001b[0;34m'honeydew'\u001b[0m\u001b[0;34m]\u001b[0m\u001b[0;34m:\u001b[0m \u001b[0;34m'July'\u001b[0m\u001b[0;34m\u001b[0m\u001b[0m\n\u001b[0m\u001b[1;32m      3\u001b[0m }\n",
      "\u001b[0;31mTypeError\u001b[0m: unhashable type: 'list'"
     ]
    }
   ],
   "source": [
    "mutable_key = {\n",
    "    ['watermelon', 'cantaloupe', 'honeydew']: 'July'\n",
    "}"
   ]
  },
  {
   "cell_type": "code",
   "execution_count": 31,
   "metadata": {
    "collapsed": true
   },
   "outputs": [],
   "source": [
    "# The solution is to use a tuple instead\n",
    "immutable_key = {\n",
    "    ('watermelon', 'cantelope', 'honeydew'): 'July'\n",
    "}"
   ]
  },
  {
   "cell_type": "markdown",
   "metadata": {},
   "source": [
    "### TRY IT\n",
    "Create a dictionary called vegetable_season with Eggplant-> July and Onion -> May"
   ]
  },
  {
   "cell_type": "code",
   "execution_count": 34,
   "metadata": {},
   "outputs": [
    {
     "name": "stdout",
     "output_type": "stream",
     "text": [
      "{'Eggplant': 'July', 'Onion': 'May'}\n"
     ]
    }
   ],
   "source": [
    "vegetable_season = {\n",
    "    'Eggplant': 'July',\n",
    "    'Onion': 'May'\n",
    "}\n",
    "print(vegetable_season)"
   ]
  },
  {
   "cell_type": "markdown",
   "metadata": {},
   "source": [
    "## Dictionary Operators\n",
    "\n",
    "The in operator returns a boolean for whether the key is in the dictionary or not.\n",
    "\n",
    "    key in dictionary "
   ]
  },
  {
   "cell_type": "code",
   "execution_count": 35,
   "metadata": {},
   "outputs": [
    {
     "name": "stdout",
     "output_type": "stream",
     "text": [
      "True\n",
      "False\n"
     ]
    }
   ],
   "source": [
    "print('raspberry' in fruit_season)\n",
    "print('mangos' in fruit_season)"
   ]
  },
  {
   "cell_type": "markdown",
   "metadata": {},
   "source": [
    "You can use this in if statement"
   ]
  },
  {
   "cell_type": "code",
   "execution_count": 37,
   "metadata": {},
   "outputs": [
    {
     "name": "stdout",
     "output_type": "stream",
     "text": [
      "Temperate fruit it is.\n"
     ]
    }
   ],
   "source": [
    "if 'pineapple' in fruit_season:\n",
    "    print('Lets eat tropical fruit')\n",
    "else:\n",
    "    print(\"Temperate fruit it is.\")"
   ]
  },
  {
   "cell_type": "markdown",
   "metadata": {},
   "source": [
    "### TRY IT\n",
    "Check if 'broccoli' is in vegetable_season. If so, print 'Yum, little trees!'"
   ]
  },
  {
   "cell_type": "code",
   "execution_count": 39,
   "metadata": {},
   "outputs": [
    {
     "name": "stdout",
     "output_type": "stream",
     "text": [
      "No little trees.\n"
     ]
    }
   ],
   "source": [
    "if 'broccoli' in vegetable_season:\n",
    "    print('Yum, little trees!')\n",
    "else:\n",
    "    print('No little trees.')"
   ]
  },
  {
   "cell_type": "markdown",
   "metadata": {},
   "source": [
    "## Dictionaries and Loops\n",
    "\n",
    "You can use a for in loop to loop through dictionaries\n",
    "\n",
    "    for key in dictionary:\n",
    "        print key"
   ]
  },
  {
   "cell_type": "code",
   "execution_count": 48,
   "metadata": {},
   "outputs": [
    {
     "name": "stdout",
     "output_type": "stream",
     "text": [
      "Raspberry is best in May (at least in Virginia)\n",
      "Apple is best in September (at least in Virginia)\n",
      "Peach is best in July (at least in Virginia)\n",
      "Grape is best in August (at least in Virginia)\n"
     ]
    }
   ],
   "source": [
    "for fruit in fruit_season:\n",
    "    print (\"{0} is best in {1} (at least in Virginia)\".format(fruit.title(), fruit_season[fruit]))"
   ]
  },
  {
   "cell_type": "markdown",
   "metadata": {},
   "source": [
    "## Dictionary Methods\n",
    "\n",
    "You can use the `keys`, `values`, or `items` methods to return lists of keys, values, or key-value tuples respectively.\n",
    "\n",
    "You can then use these for sorting or for looping"
   ]
  },
  {
   "cell_type": "code",
   "execution_count": 49,
   "metadata": {},
   "outputs": [
    {
     "name": "stdout",
     "output_type": "stream",
     "text": [
      "dict_keys(['raspberry', 'apple', 'peach', 'grape'])\n",
      "dict_values(['May', 'September', 'July', 'August'])\n",
      "dict_items([('raspberry', 'May'), ('apple', 'September'), ('peach', 'July'), ('grape', 'August')])\n"
     ]
    }
   ],
   "source": [
    "print(fruit_season.keys())\n",
    "print(fruit_season.values())\n",
    "print(fruit_season.items())"
   ]
  },
  {
   "cell_type": "code",
   "execution_count": 51,
   "metadata": {},
   "outputs": [
    {
     "name": "stdout",
     "output_type": "stream",
     "text": [
      "In May eat a raspberry\n",
      "In September eat a apple\n",
      "In July eat a peach\n",
      "In August eat a grape\n"
     ]
    }
   ],
   "source": [
    "for key, value in fruit_season.items():\n",
    "    print (\"In {0} eat a {1}\".format(value, key))"
   ]
  },
  {
   "cell_type": "code",
   "execution_count": 52,
   "metadata": {},
   "outputs": [
    {
     "name": "stdout",
     "output_type": "stream",
     "text": [
      "['apple', 'grape', 'peach', 'raspberry']\n"
     ]
    }
   ],
   "source": [
    "print (sorted(fruit_season.keys()))"
   ]
  },
  {
   "cell_type": "markdown",
   "metadata": {},
   "source": [
    "### TRY IT\n",
    "Loop through the sorted keys of the vegetable_season dictionary. For each key, print the month it is in season"
   ]
  },
  {
   "cell_type": "code",
   "execution_count": 53,
   "metadata": {},
   "outputs": [
    {
     "name": "stdout",
     "output_type": "stream",
     "text": [
      "In September apple is in season.\n",
      "In August grape is in season.\n",
      "In July peach is in season.\n",
      "In May raspberry is in season.\n"
     ]
    }
   ],
   "source": [
    "for fruit in sorted(fruit_season.keys()):\n",
    "    print('In {0} {1} is in season.'.format(fruit_season[fruit], fruit))"
   ]
  },
  {
   "cell_type": "markdown",
   "metadata": {},
   "source": [
    "## More complex dictionaries\n",
    "\n",
    "Dictionary keys and values can be almost anything. The keys must be hashable which means it cannot change. That means that lists and dictionaries cannot be keys (but strings, tuples, and integers can).\n",
    "\n",
    "Values can be just about anything, though.\n",
    "\n"
   ]
  },
  {
   "cell_type": "code",
   "execution_count": 55,
   "metadata": {},
   "outputs": [
    {
     "name": "stdout",
     "output_type": "stream",
     "text": [
      "{(1, 2, 3): 6, 'weevil': {'e': 2, 'i': 1, 'l': 1, 'v': 1, 'w': 1}, 9: [3, 3]}\n"
     ]
    }
   ],
   "source": [
    "my_complicated_dictionary = {\n",
    "    (1, 2, 3): 6,\n",
    "    'weevil': {\n",
    "        'e': 2,\n",
    "        'i': 1,\n",
    "        'l': 1,\n",
    "        'v': 1,\n",
    "        'w': 1,\n",
    "    },\n",
    "    9: [3, 3]\n",
    "}\n",
    "print (my_complicated_dictionary)"
   ]
  },
  {
   "cell_type": "markdown",
   "metadata": {},
   "source": [
    "Let's use this to create a more realistic fruit season dictionary"
   ]
  },
  {
   "cell_type": "code",
   "execution_count": 56,
   "metadata": {},
   "outputs": [
    {
     "name": "stdout",
     "output_type": "stream",
     "text": [
      "{'raspberry': ['May', 'June'], 'apple': ['September', 'October', 'November', 'December'], 'peach': ['July', 'August'], 'grape': ['August', 'September', 'October']}\n"
     ]
    }
   ],
   "source": [
    "true_fruit_season = {\n",
    "    'raspberry': ['May', 'June'],\n",
    "    'apple': ['September', 'October', 'November', 'December'],\n",
    "    'peach': ['July', 'August'],\n",
    "    'grape': ['August', 'September', 'October']\n",
    "} \n",
    "\n",
    "print (true_fruit_season)"
   ]
  },
  {
   "cell_type": "code",
   "execution_count": 58,
   "metadata": {},
   "outputs": [
    {
     "name": "stdout",
     "output_type": "stream",
     "text": [
      "It is January\n",
      "It is February\n",
      "It is March\n",
      "It is April\n",
      "It is May\n",
      "\tEat raspberry\n",
      "It is June\n",
      "\tEat raspberry\n",
      "It is July\n",
      "\tEat peach\n",
      "It is August\n",
      "\tEat peach\n",
      "\tEat grape\n",
      "It is September\n",
      "\tEat apple\n",
      "\tEat grape\n",
      "It is October\n",
      "\tEat apple\n",
      "\tEat grape\n",
      "It is November\n",
      "\tEat apple\n",
      "It is December\n",
      "\tEat apple\n"
     ]
    }
   ],
   "source": [
    "months = ['January', 'February', 'March', 'April', 'May', 'June', 'July', 'August', 'September', 'October', 'November', 'December']\n",
    "\n",
    "for month in months:\n",
    "    print ('It is {0}'.format(month))\n",
    "    for fruit, season in true_fruit_season.items():\n",
    "        if month in season:\n",
    "            print (\"\\tEat {0}\".format(fruit))"
   ]
  },
  {
   "cell_type": "markdown",
   "metadata": {},
   "source": [
    "### TRY IT\n",
    "Add a key to the true_fruit_season for 'watermelons' the season is July, August, and September"
   ]
  },
  {
   "cell_type": "code",
   "execution_count": null,
   "metadata": {
    "collapsed": true
   },
   "outputs": [],
   "source": []
  },
  {
   "cell_type": "markdown",
   "metadata": {},
   "source": [
    "## Project: Acrostic\n",
    "\n",
    "Create an acrostic poem generator.\n",
    "\n",
    "You will create a function that takes a name and generates an acrostic poem\n",
    "\n",
    "1. Create a dictionary that has each of the capital letters as keys and an adjective that start with the letter as the value and store in variable named adjectives. (Reference: http://www.enchantedlearning.com/wordlist/adjectives.shtml)\n",
    "2. Create a function called \"acrostic\", which takes one parameter \"name\" as argument.\n",
    "3. In the acrostic function capitalize the name (use the upper method)\n",
    "4. For each letter in the name\n",
    "    5. Get the adjective corresponding to that letter (from our dictionary) and store it in a variable called current_adj\n",
    "    6. Print out Letter-current_adj\n",
    "\n",
    "** Challenge ** instead of just one adjective have each letter's value be a list of adjectives. Use the random module to select a random adjective instead of always selecting the same one.\n"
   ]
  },
  {
   "cell_type": "code",
   "execution_count": 39,
   "metadata": {},
   "outputs": [],
   "source": [
    "from random import randint #necessary for \"challenge\"\n",
    "\n",
    "# step 1: create dictionary with one adjective per letter of the alphabet\n",
    "myadjectives = {\n",
    "    'A':['admirable','aggressive','agile','agitated','agonizing','agreeable'],\n",
    "    'B':'biodegradable',\n",
    "    'C':['cloudy','creative'],\n",
    "    'D':'deserted',\n",
    "    'E':'everlasting',\n",
    "    'F':'flamboyant',\n",
    "    'G':'grotesque',\n",
    "    'H':'humming',\n",
    "    'I':'imperfect',\n",
    "    'J':'joyful',\n",
    "    'K':'kosher',\n",
    "    'L':'lively',\n",
    "    'M':'modest',\n",
    "    'N':'nervous',\n",
    "    'O':'ornate',\n",
    "    'P':'playful',\n",
    "    'Q':'quick',\n",
    "    'R':['restless','relieved','remarkable','remorseful', 'remote'],\n",
    "    'S':'strong',\n",
    "    'T':'tiny',\n",
    "    'U':'ugly',\n",
    "    'V':'vital',\n",
    "    'W':['wobbly','well-made'],\n",
    "    'X':'oops!',\n",
    "    'Y':'youthful',\n",
    "    'Z':'zesty'\n",
    "}"
   ]
  },
  {
   "cell_type": "code",
   "execution_count": 52,
   "metadata": {},
   "outputs": [
    {
     "data": {
      "text/plain": [
       "list"
      ]
     },
     "execution_count": 52,
     "metadata": {},
     "output_type": "execute_result"
    }
   ],
   "source": [
    "type(myadjectives['C'])"
   ]
  },
  {
   "cell_type": "code",
   "execution_count": 53,
   "metadata": {},
   "outputs": [],
   "source": [
    "# step 2: create funtion acrostic, takes name as an argument\n",
    "def acrostic (name):\n",
    "    # step 3: capitalize name\n",
    "    capName = name.upper()\n",
    "    \n",
    "    # step 4\n",
    "    for letter in capName:\n",
    "        current_adj_list = myadjectives[letter]\n",
    "        if type(current_adj_list) == list:\n",
    "            current_adj = current_adj_list[randint(0,len(current_adj_list)-1)]\n",
    "        else:\n",
    "            current_adj = current_adj_list\n",
    "        print(\"{0} - {1}\".format(letter, current_adj))\n",
    "        "
   ]
  },
  {
   "cell_type": "code",
   "execution_count": 56,
   "metadata": {},
   "outputs": [
    {
     "name": "stdout",
     "output_type": "stream",
     "text": [
      "L - lively\n",
      "I - imperfect\n",
      "L - lively\n",
      "L - lively\n",
      "Y - youthful\n"
     ]
    }
   ],
   "source": [
    "acrostic('Lilly')"
   ]
  },
  {
   "cell_type": "markdown",
   "metadata": {},
   "source": [
    "## Bonus Material\n",
    "\n",
    "Auto generating the dictionary for the acrostic:"
   ]
  },
  {
   "cell_type": "code",
   "execution_count": 74,
   "metadata": {},
   "outputs": [
    {
     "name": "stdout",
     "output_type": "stream",
     "text": [
      "{'A': ['Adoreable', 'Acceptable', 'Active'], 'B': ['Bad', 'Basic'], 'C': ['Cute']}\n"
     ]
    }
   ],
   "source": [
    "# If you have a list of adjectives\n",
    "my_dict = {}\n",
    "\n",
    "# Imaging this is the full alphabet\n",
    "for i in ['A', 'B', 'C']:\n",
    "    my_dict[i] = []\n",
    "    \n",
    "    \n",
    "for i in ['Adoreable', 'Acceptable', 'Bad', 'Cute', 'Basic', 'Dumb','Active']:\n",
    "    first_char = i[0]\n",
    "    if first_char in my_dict:\n",
    "        my_dict[first_char].append(i)\n",
    "print (my_dict)"
   ]
  },
  {
   "cell_type": "code",
   "execution_count": 62,
   "metadata": {},
   "outputs": [
    {
     "name": "stdout",
     "output_type": "stream",
     "text": [
      "['Average', 'Ancient', 'Abundant', 'Afraid', 'Angry', 'Annoyed', 'Anxious', 'Arrogant', 'Ashamed', 'Awful', 'Agreeable', 'Amused', 'Able', 'Available', 'American', 'Appropriate', 'Aware', 'Annual', 'Additional', 'Active', 'Actual', 'Average', 'Afraid', 'Alone', 'Apparent', 'Attractive', 'Alternative', 'Ancient', 'Academic', 'African', 'Angry', 'Alive', 'Agricultural', 'Alright', 'Armed', 'Acceptable', 'Adequate', 'Administrative', 'Absolute', 'Advanced', 'Anxious', 'Awful', 'Accurate', 'Above', 'Asleep', 'Australian', 'Acute', 'Automatic', 'Arab']\n"
     ]
    }
   ],
   "source": [
    "# Generating from a file\n",
    "my_dict = {}\n",
    "\n",
    "for i in ['A', 'B', 'C']:\n",
    "    my_dict[i] = []\n",
    "    \n",
    "# adjectives.txt has one adjective per line\n",
    "with open('adjectives.txt') as fh:\n",
    "    for line in fh:\n",
    "        word = line.rstrip().title()\n",
    "        first_char = word[0]\n",
    "        if first_char in my_dict:\n",
    "            my_dict[first_char].append(word)\n",
    "            \n",
    "print (my_dict['A'])"
   ]
  },
  {
   "cell_type": "code",
   "execution_count": null,
   "metadata": {
    "collapsed": true
   },
   "outputs": [],
   "source": []
  }
 ],
 "metadata": {
  "kernelspec": {
   "display_name": "Python 3",
   "language": "python",
   "name": "python3"
  },
  "language_info": {
   "codemirror_mode": {
    "name": "ipython",
    "version": 3
   },
   "file_extension": ".py",
   "mimetype": "text/x-python",
   "name": "python",
   "nbconvert_exporter": "python",
   "pygments_lexer": "ipython3",
   "version": "3.6.1"
  }
 },
 "nbformat": 4,
 "nbformat_minor": 1
}
