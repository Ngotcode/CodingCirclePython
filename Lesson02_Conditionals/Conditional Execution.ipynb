{
 "cells": [
  {
   "cell_type": "markdown",
   "metadata": {},
   "source": [
    "# Conditional Execution\n",
    "\n",
    "## Boolean Expressions\n",
    "We introduce a new value type, the `boolean`. A boolean can have one of two values: `True` or `False`\n"
   ]
  },
  {
   "cell_type": "code",
   "execution_count": null,
   "metadata": {},
   "outputs": [],
   "source": [
    "cleaned_room = True\n",
    "took_out_trash = False\n",
    "\n",
    "print(cleaned_room)\n",
    "print(type(took_out_trash))"
   ]
  },
  {
   "cell_type": "markdown",
   "metadata": {},
   "source": [
    "## Comparison Operators\n",
    "\n",
    "You can compare values together and get a boolean result\n",
    "\n",
    "| Operator  |       Meaning|\n",
    "|------|------|\n",
    "| **x == y **     |        x equal to y | \n",
    "| **x != y**       |        x not equal to y | \n",
    "| **x \\>  y **     |        x greater than y | \n",
    "| **x < y **        |       x less than y | \n",
    "| **x \\>= y**      |        x greater than or equal to y | \n",
    "| **x <= y**       |        x less than or equal to y | \n",
    "| **x is  y**      |        x is the same as y | \n",
    "| **x is not  y**   |      x is not the same as y | \n",
    "\n",
    "By using the operators in an expression the result evaluates to a boolean. x and y can be any type of value\n"
   ]
  },
  {
   "cell_type": "code",
   "execution_count": null,
   "metadata": {},
   "outputs": [],
   "source": [
    "print(5 == 6)"
   ]
  },
  {
   "cell_type": "code",
   "execution_count": null,
   "metadata": {},
   "outputs": [],
   "source": [
    "print(\"Coke\" != \"Pepsi\")"
   ]
  },
  {
   "cell_type": "code",
   "execution_count": null,
   "metadata": {},
   "outputs": [],
   "source": [
    "# You can compare to variables too\n",
    "allowance = 5\n",
    "\n",
    "print(5 >= allowance)"
   ]
  },
  {
   "cell_type": "code",
   "execution_count": null,
   "metadata": {},
   "outputs": [],
   "source": [
    "print(allowance is True)"
   ]
  },
  {
   "cell_type": "markdown",
   "metadata": {},
   "source": [
    "### TRY IT\n",
    "See if 5.0000001 is greater than 5"
   ]
  },
  {
   "cell_type": "code",
   "execution_count": null,
   "metadata": {
    "collapsed": true
   },
   "outputs": [],
   "source": []
  },
  {
   "cell_type": "markdown",
   "metadata": {},
   "source": [
    "## Conditional Execution\n",
    "\n",
    "We can write programs that change their behavior depending on the conditions.\n",
    "\n",
    "We use an if statement to run a block of code if a condition is true. It won't run if the condition is false.\n",
    "\n",
    "    if (condition):\n",
    "        code_to_execute # if condition is true\n",
    "        \n",
    "In python indentation matters. The code to execute must be indented (4 spaces is best, though I like tabs) more than the if condition."
   ]
  },
  {
   "cell_type": "code",
   "execution_count": null,
   "metadata": {
    "collapsed": true
   },
   "outputs": [],
   "source": [
    "# cleaned_room is true\n",
    "if cleaned_room:\n",
    "    print(\"Good kid! You can watch TV.\")\n",
    "    \n",
    "# took_out_trash if false\n",
    "if took_out_trash:\n",
    "    print(\"Thank you!\")\n",
    "    \n",
    "print(took_out_trash)"
   ]
  },
  {
   "cell_type": "markdown",
   "metadata": {},
   "source": [
    "You can include more than one statement in the block of code in the if statement. You can tell python that this code should be part of the if statement by indenting it. This is called a 'block' of code\n",
    "\n",
    "    if (condition):\n",
    "        statement1\n",
    "        statement2\n",
    "        statement3\n",
    "     \n",
    "You can tell python that the statement is not part of the if block by dedenting  it to the original level\n",
    "\n",
    "    if (condition):\n",
    "        statement1\n",
    "        statement2\n",
    "    statement3 # statement3 will run even if condition is false"
   ]
  },
  {
   "cell_type": "code",
   "execution_count": null,
   "metadata": {
    "collapsed": true
   },
   "outputs": [],
   "source": [
    "# cleaned_room is true\n",
    "if cleaned_room:\n",
    "    print(\"Good job! You can watch TV.\")\n",
    "    print(\"Or play outside\")"
   ]
  },
  {
   "cell_type": "code",
   "execution_count": null,
   "metadata": {
    "collapsed": true
   },
   "outputs": [],
   "source": [
    "# took_out_trash is false\n",
    "if took_out_trash:\n",
    "    print(\"Thank you!\")\n",
    "    print(\"You are a good helper\")\n",
    "print(\"It is time for lunch\")"
   ]
  },
  {
   "cell_type": "markdown",
   "metadata": {},
   "source": [
    "In alternative execution, there are two possibilities. One that happens if the condition is true, and one that happens if it is false. It is not possible to have both execute.\n",
    "\n",
    "You use if/else syntax\n",
    "\n",
    "    if (condition):\n",
    "        code_runs_if_true\n",
    "    else:\n",
    "        code_runs_if_false\n",
    "        \n",
    "Again, note the colons and spacing. These are necessary in python."
   ]
  },
  {
   "cell_type": "code",
   "execution_count": null,
   "metadata": {},
   "outputs": [],
   "source": [
    "candies_taken = 4\n",
    "\n",
    "if candies_taken < 3:\n",
    "    print('Enjoy!')\n",
    "else:\n",
    "    print('Put some back')"
   ]
  },
  {
   "cell_type": "markdown",
   "metadata": {},
   "source": [
    "Chained conditionals allow you to check several conditions. Only one block of code will ever run, though.\n",
    "\n",
    "To run a chained conditional, you use if/elif/else syntax. You can use as many elifs as you want.\n",
    "\n",
    "    if (condition1):\n",
    "        run_this_code1\n",
    "    elif (condition2):\n",
    "        run_this_code2\n",
    "    elif (condition3):\n",
    "        run_this_code3\n",
    "    else:\n",
    "        run_this_code4\n",
    "        \n",
    "You are not required to have an else block.\n",
    "   \n",
    "    if (condition1):\n",
    "        run_this_code1\n",
    "    elif (condition2):\n",
    "        run_this_code2\n",
    "        \n",
    "Each condition is checked in order. If the first is false, the next is checked, and so on. If one of them is true, the corresponding branch executes, and the statement ends. Even if more than one condition is true, only the first true branch executes."
   ]
  },
  {
   "cell_type": "code",
   "execution_count": null,
   "metadata": {
    "collapsed": true
   },
   "outputs": [],
   "source": [
    "did_homework = True\n",
    "took_out_trash = True\n",
    "cleaned_room = False\n",
    "allowance = 0\n",
    "if cleaned_room:\n",
    "    allowance = 10\n",
    "elif took_out_trash:\n",
    "    allowance = 5\n",
    "elif did_homework:\n",
    "    allowance = 4\n",
    "else:\n",
    "    allowance = 2\n",
    "print(allowance)"
   ]
  },
  {
   "cell_type": "markdown",
   "metadata": {},
   "source": [
    "### TRY IT\n",
    "Check if did_homework is `true`, if so, print out \"You can play a video game\", otherwise print out \"Go get your backpack\""
   ]
  },
  {
   "cell_type": "code",
   "execution_count": null,
   "metadata": {
    "collapsed": true
   },
   "outputs": [],
   "source": []
  },
  {
   "cell_type": "markdown",
   "metadata": {},
   "source": [
    "## Logical Operators\n",
    "\n",
    "Logical operators allow you to combine two or more booleans. They are **and**, **or**, **not**"
   ]
  },
  {
   "cell_type": "markdown",
   "metadata": {},
   "source": [
    "and Truth table  (only true if both values are true)\n",
    "\n",
    "| val1  |  val2  |  val1 and val2 |\n",
    "|-- |------|------|\n",
    "| true  |  true  |  true |\n",
    "| true  |  false |  false |\n",
    "| false |  true  |  false |\n",
    "| false |  false |  false |\n",
    "\n",
    "or  Truth table  (true if at least 1 value is true)\n",
    "\n",
    "| val1  |  val2  |  val1 or val2 |\n",
    "|------|------|------|\n",
    "| true  |  true  |  true |\n",
    "| true  |  false |  true |\n",
    "| false |  true  |  true |\n",
    "| false |  false |  false |\n",
    "\n",
    "not Truth table (the opposite of the value)\n",
    "\n",
    "| val1  |  not val1 |\n",
    "|------|------|\n",
    "| true  |  false |\n",
    "| false |  true |"
   ]
  },
  {
   "cell_type": "code",
   "execution_count": null,
   "metadata": {},
   "outputs": [],
   "source": [
    "print(True and True)\n",
    "      \n",
    "print(False or True)\n",
    "\n",
    "print(not False)"
   ]
  },
  {
   "cell_type": "markdown",
   "metadata": {},
   "source": [
    "You can use the logical operators in if statements"
   ]
  },
  {
   "cell_type": "code",
   "execution_count": null,
   "metadata": {},
   "outputs": [],
   "source": [
    "cleaned_room = True\n",
    "took_out_trash = False\n",
    "if cleaned_room and took_out_trash:\n",
    "    print(\"Let's go to Chuck-E-Cheese's.\")\n",
    "else:\n",
    "    print(\"Get to work!\")"
   ]
  },
  {
   "cell_type": "code",
   "execution_count": null,
   "metadata": {},
   "outputs": [],
   "source": [
    "if not did_homework:\n",
    "    print(\"You're going to get a bad grade.\")"
   ]
  },
  {
   "cell_type": "markdown",
   "metadata": {},
   "source": [
    "### TRY IT\n",
    "Check if the room is clean or the trash is taken out and if so print \"Here is your allowance\""
   ]
  },
  {
   "cell_type": "code",
   "execution_count": null,
   "metadata": {
    "collapsed": true
   },
   "outputs": [],
   "source": []
  },
  {
   "cell_type": "markdown",
   "metadata": {},
   "source": [
    "## Nested Conditionals\n",
    "You can nest conditional branches inside another. You just indent each level more.\n",
    "\n",
    "    if (condition):\n",
    "        run_this\n",
    "    else:\n",
    "        if (condition2):\n",
    "           run_this2\n",
    "        else:\n",
    "           run_this3\n",
    "          \n",
    "Avoid nesting too deep, it becomes difficult to read."
   ]
  },
  {
   "cell_type": "code",
   "execution_count": null,
   "metadata": {},
   "outputs": [],
   "source": [
    "allowance = 5\n",
    "\n",
    "if allowance > 2:\n",
    "    if allowance >= 8:\n",
    "        print(\"Buy toys!\")\n",
    "    else:\n",
    "        print(\"Buy candy!\")\n",
    "else:\n",
    "    print(\"Save it until I have enough to buy something good.\")"
   ]
  },
  {
   "cell_type": "markdown",
   "metadata": {},
   "source": [
    "## Catching exceptions using try and except\n",
    "\n",
    "You can put code into a try/except block. If the code has an error in the try block, it will stop running and go to the except block. If there is no error, the try block completes and the except block never runs.\n",
    "\n",
    "    try:\n",
    "        code\n",
    "    except:\n",
    "        code_runs_if_error"
   ]
  },
  {
   "cell_type": "code",
   "execution_count": null,
   "metadata": {},
   "outputs": [],
   "source": [
    "try:\n",
    "    print(\"Before\")\n",
    "    y = 5/0\n",
    "    print(\"After\")\n",
    "except:\n",
    "    print(\"I'm sorry, the universe doesn't work that way...\")"
   ]
  },
  {
   "cell_type": "markdown",
   "metadata": {},
   "source": [
    "A `finally` statment can be added to the try/except block and it executes at the end whether or not there is an error. This can be useful for cleaning up resources.\n",
    "\n",
    "    try:\n",
    "        code\n",
    "    except:\n",
    "        code_runs_if_error\n",
    "    finally:\n",
    "        code runs at end with or without error"
   ]
  },
  {
   "cell_type": "code",
   "execution_count": null,
   "metadata": {},
   "outputs": [],
   "source": [
    "try:\n",
    "    print(\"Before\")\n",
    "    y = 5/0\n",
    "    print(\"After\")\n",
    "except:\n",
    "    print(\"I'm sorry, the universe doesn't work that way...\")\n",
    "finally:\n",
    "    print(\"Even if you break python, you still have to do your chores\")"
   ]
  },
  {
   "cell_type": "markdown",
   "metadata": {},
   "source": [
    "This can be useful when evaluating a user's input, to make sure it is what you expected."
   ]
  },
  {
   "cell_type": "code",
   "execution_count": null,
   "metadata": {},
   "outputs": [],
   "source": [
    "inp = input('Enter Fahrenheit Temperature:')\n",
    "try:\n",
    "    fahr = float(inp)\n",
    "    cel = (fahr - 32.0) * 5.0 / 9.0\n",
    "    print(cel)\n",
    "except:\n",
    "    print('Please enter a number')"
   ]
  },
  {
   "cell_type": "markdown",
   "metadata": {},
   "source": [
    "### TRY IT\n",
    "Try converting the string 'candy' into an integer. If there is an error, print \"What did you think would happen?\""
   ]
  },
  {
   "cell_type": "code",
   "execution_count": null,
   "metadata": {},
   "outputs": [],
   "source": []
  },
  {
   "cell_type": "markdown",
   "metadata": {},
   "source": [
    "## Short-circuit evaluation  of logical expressions\n",
    "Python (and most other languages) are very lazy about logical expressions. As soon as it knows the value of the whole expression, it stops evaluating the expression.\n",
    "\n",
    "    if (condition1 and condition2):\n",
    "        run_code\n",
    "        \n",
    "In the above example, if condition1 is false then condition2 is never evaluated."
   ]
  },
  {
   "cell_type": "code",
   "execution_count": null,
   "metadata": {},
   "outputs": [],
   "source": [
    "if (1 < 2) or (5/0):\n",
    "    print(\"How did we do that?\")"
   ]
  },
  {
   "cell_type": "markdown",
   "metadata": {},
   "source": [
    "# PROJECT: Car selector\n",
    "We are going to build an application that recommends a car based on the user's budget.\n",
    "\n",
    "1. Ask the user what their car buying budget is and store in a variable called budget.\n",
    "2. Try to convert the budget into an integer and store back in the variable called budget.\n",
    "3. If step 2 fails print out \"Please be realistic, you can't buy a car on rainbows and love.\"\n",
    "4. If their budget is greater than 75000, tell them to buy a Tesla.\n",
    "5. If their budget is less than 500 tell them they are better off riding the bus (it will be more reliable than a $500 car)\n",
    "6. Otherwise, tell them to buy a Toyota Corolla or something.\n",
    "7. Regardless of what their budget is let them know they can get all their car shopping done at \"\\[your name here\\] Auto Depot.\"\n",
    "\n"
   ]
  },
  {
   "cell_type": "code",
   "execution_count": null,
   "metadata": {
    "collapsed": true
   },
   "outputs": [],
   "source": []
  }
 ],
 "metadata": {
  "kernelspec": {
   "display_name": "Python 3",
   "language": "python",
   "name": "python3"
  },
  "language_info": {
   "codemirror_mode": {
    "name": "ipython",
    "version": 3
   },
   "file_extension": ".py",
   "mimetype": "text/x-python",
   "name": "python",
   "nbconvert_exporter": "python",
   "pygments_lexer": "ipython3",
   "version": "3.6.3"
  }
 },
 "nbformat": 4,
 "nbformat_minor": 1
}
