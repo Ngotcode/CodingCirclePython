{
 "cells": [
  {
   "cell_type": "markdown",
   "metadata": {},
   "source": [
    "# Functions\n",
    "\n",
    "A function is a set of statements that you store and can run multiple times. We have already used some functions.\n",
    "\n",
    "    type(\"I've been using functions since the beginning?\")\n",
    "    \n",
    "This is a built in function called 'type'. A function takes arguments (values you put between the parentheses) and returns a result. In this case it takes the arguments of \"I've been using functions since the beginning?\" and returns the result of \"str\".\n",
    "\n",
    "## Built in Functions\n",
    "There are lots of predefined functions in python. Here are some of them\n",
    "\n",
    "    len(list) -> returns the number of items in a list\n",
    "    max(list) -> returns you the maximum value of the list (strings are lists)\n",
    "    min(list) -> returns minimum value of list\n",
    "    "
   ]
  },
  {
   "cell_type": "code",
   "execution_count": null,
   "metadata": {},
   "outputs": [],
   "source": [
    "my_string = \"Howdy, welcome to my ranch?\"\n",
    "\n",
    "print(len(my_string))\n",
    "print(max(my_string))\n",
    "print(min(my_string))"
   ]
  },
  {
   "cell_type": "markdown",
   "metadata": {},
   "source": [
    "### TRY IT\n",
    "Create a string with your name and store in a variable called `name`\n",
    "\n",
    "Then find and print the length and max letter of `name`."
   ]
  },
  {
   "cell_type": "code",
   "execution_count": null,
   "metadata": {
    "collapsed": true
   },
   "outputs": [],
   "source": []
  },
  {
   "cell_type": "markdown",
   "metadata": {},
   "source": [
    "## Type Conversion Functions\n",
    "Some of the built in functions are to convert values of one type into another.\n",
    "\n",
    "    int(value) -> converts to int\n",
    "    float(value) -> converts to float\n",
    "    str(value) -> converts to string\n",
    "    bool(value) -> converts to boolean\n",
    "    \n",
    "If the value can't be converted, the function will throw an error"
   ]
  },
  {
   "cell_type": "code",
   "execution_count": null,
   "metadata": {},
   "outputs": [],
   "source": [
    "# Integer\n",
    "int('5')"
   ]
  },
  {
   "cell_type": "code",
   "execution_count": null,
   "metadata": {},
   "outputs": [],
   "source": [
    "# float\n",
    "float(5)"
   ]
  },
  {
   "cell_type": "code",
   "execution_count": null,
   "metadata": {},
   "outputs": [],
   "source": [
    "# string\n",
    "str(5)"
   ]
  },
  {
   "cell_type": "code",
   "execution_count": null,
   "metadata": {},
   "outputs": [],
   "source": [
    "#boolean\n",
    "bool(1)"
   ]
  },
  {
   "cell_type": "code",
   "execution_count": null,
   "metadata": {},
   "outputs": [],
   "source": [
    "# Uh-Oh - python doesn't do number words\n",
    "int('five')"
   ]
  },
  {
   "cell_type": "markdown",
   "metadata": {},
   "source": [
    "### TRY IT\n",
    "Convert the string '3.6' to a float"
   ]
  },
  {
   "cell_type": "code",
   "execution_count": null,
   "metadata": {
    "collapsed": true
   },
   "outputs": [],
   "source": []
  },
  {
   "cell_type": "markdown",
   "metadata": {},
   "source": [
    "## Modules and Random numbers\n",
    "Python includes functions to generate pseudorandom numbers. This comes in handy a surprising frequently amount of times. (What is the difference between pseudorandom numbers and random numbers? If given the same seed, pseudo random numbers will come up with the same series every time.)\n",
    "\n",
    "You will need to import a module to use random numbers. A module is a collection of functions, objects, and values that you can use if you bring it into your program using an import statement. Then you can access these using 'dot notation'.\n",
    "\n",
    "    import module\n",
    "    module.function()\n",
    "    module.value\n",
    "    \n",
    "The random module has a function called 'random()' that returns a random float from (0, 1]. That means including 0 but excluding 1. "
   ]
  },
  {
   "cell_type": "code",
   "execution_count": null,
   "metadata": {},
   "outputs": [],
   "source": [
    "import random\n",
    "\n",
    "#Your value should be different from mine.\n",
    "random.random()"
   ]
  },
  {
   "cell_type": "markdown",
   "metadata": {},
   "source": [
    "You can get help on modules that you import by typing a question mark after the module. (This only works in an ipython notebook, not from the command line)"
   ]
  },
  {
   "cell_type": "code",
   "execution_count": null,
   "metadata": {
    "collapsed": true
   },
   "outputs": [],
   "source": [
    "random?"
   ]
  },
  {
   "cell_type": "markdown",
   "metadata": {},
   "source": [
    "You can also get help on functions within the modules"
   ]
  },
  {
   "cell_type": "code",
   "execution_count": null,
   "metadata": {
    "collapsed": true
   },
   "outputs": [],
   "source": [
    "random.randint?"
   ]
  },
  {
   "cell_type": "markdown",
   "metadata": {
    "collapsed": true
   },
   "source": [
    "There is also a function to generate a random integer.\n",
    "\n",
    "randint(low, high) generates a random number between low and high (including both)."
   ]
  },
  {
   "cell_type": "code",
   "execution_count": null,
   "metadata": {},
   "outputs": [],
   "source": [
    "random.randint(0,6)"
   ]
  },
  {
   "cell_type": "markdown",
   "metadata": {},
   "source": [
    "### TRY IT\n",
    "Get a random value from 1-20."
   ]
  },
  {
   "cell_type": "code",
   "execution_count": null,
   "metadata": {
    "collapsed": true
   },
   "outputs": [],
   "source": []
  },
  {
   "cell_type": "markdown",
   "metadata": {},
   "source": [
    "## Math Module\n",
    "\n",
    "The math module has more advanced math functions and constants than the arithmetic operators.\n",
    "\n",
    "Here is the full API: https://docs.python.org/2/library/math.html\n",
    "\n",
    "Constants:\n",
    "\n",
    "pi\n",
    "\n",
    "e\n",
    "\n",
    "Sample of functions:\n",
    "\n",
    "sin(x) - sine of x (radians) \n",
    "\n",
    "cos(x) - cosine of x (radians)\n",
    "\n",
    "tan(x) - tangent of x (radians)\n",
    "\n",
    "log(x) - logarithm of x (base e)\n",
    "\n",
    "floor(x) - rounds floating point number down to nearest int.\n"
   ]
  },
  {
   "cell_type": "code",
   "execution_count": null,
   "metadata": {},
   "outputs": [],
   "source": [
    "import math\n",
    "\n",
    "# using constant\n",
    "radius_of_pig_pen = 5\n",
    "circumference = math.pi * 2 * radius_of_pig_pen\n",
    "print(circumference)\n",
    "\n",
    "# using functions\n",
    "print(math.sin(0))\n",
    "print(math.cos(0))"
   ]
  },
  {
   "cell_type": "markdown",
   "metadata": {},
   "source": [
    "### TRY IT\n",
    "Find the floor of 4.6732"
   ]
  },
  {
   "cell_type": "code",
   "execution_count": null,
   "metadata": {
    "collapsed": true
   },
   "outputs": [],
   "source": []
  },
  {
   "cell_type": "markdown",
   "metadata": {},
   "source": [
    "## Adding your own functions\n",
    "\n",
    "You can define your own functions using the def keyword. Defining a function does not run the lines of code within the function.\n",
    "\n",
    "    def function_name():\n",
    "       line 1\n",
    "       line 2\n",
    "   \n",
    "Once you have defined a function, you can call it and run the code within the function.\n",
    "\n",
    "    function_name()"
   ]
  },
  {
   "cell_type": "code",
   "execution_count": null,
   "metadata": {
    "collapsed": true
   },
   "outputs": [],
   "source": [
    "def yeehaw():\n",
    "    print(\"YEEHAW\")\n",
    "    \n",
    "#notice that nothing is printed, the functions is not run unless you call it"
   ]
  },
  {
   "cell_type": "code",
   "execution_count": null,
   "metadata": {
    "collapsed": true
   },
   "outputs": [],
   "source": [
    "# lets call our new function\n",
    "yeehaw()"
   ]
  },
  {
   "cell_type": "markdown",
   "metadata": {},
   "source": [
    "You can call your function within another function"
   ]
  },
  {
   "cell_type": "code",
   "execution_count": null,
   "metadata": {
    "collapsed": true
   },
   "outputs": [],
   "source": [
    "def cowgirl():\n",
    "    yeehaw()\n",
    "    print(\"I'm gonna lasso me some cattle\")\n",
    "    yeehaw()\n",
    "    \n",
    "# Got to run it\n",
    "cowgirl()"
   ]
  },
  {
   "cell_type": "markdown",
   "metadata": {},
   "source": [
    "### TRY IT\n",
    "Write a function called ranch() that prints out your favorite farm animal and the noise it makes. Call your function."
   ]
  },
  {
   "cell_type": "code",
   "execution_count": null,
   "metadata": {
    "collapsed": true
   },
   "outputs": [],
   "source": []
  },
  {
   "cell_type": "markdown",
   "metadata": {},
   "source": [
    "## Parameters and arguments\n",
    "\n",
    "You can have your function take one or more variables as input, these are called arguments. Arguments are assigned to parameters (named variables). You can use the parameters inside the body of the function\n",
    "\n",
    "    def myfunc(parameter1, parameter2):\n",
    "        print(parameter1)\n",
    "        \n",
    "    myfunc('hello', 'goodbye')\n",
    "    \n",
    "\n",
    "Giving the function different arguments can change the way it behaves.\n"
   ]
  },
  {
   "cell_type": "code",
   "execution_count": null,
   "metadata": {},
   "outputs": [],
   "source": [
    "def feed_animal(type_of_feed):\n",
    "    if type_of_feed == 'oats':\n",
    "        print(\"Feeding the horse\")\n",
    "    elif type_of_feed == 'hay':\n",
    "        print(\"Feeding the cows\")\n",
    "    else:\n",
    "        # pigs eat anything\n",
    "        print(\"Feeding the pigs\")\n",
    "        \n",
    "feed_animal('hay')\n",
    "\n",
    "feed_animal('apple')"
   ]
  },
  {
   "cell_type": "markdown",
   "metadata": {},
   "source": [
    "### TRY IT\n",
    "Create a function called pet that takes a parameter called animal. The function should print out 'Petting the ' + animal"
   ]
  },
  {
   "cell_type": "code",
   "execution_count": null,
   "metadata": {
    "collapsed": true
   },
   "outputs": [],
   "source": []
  },
  {
   "cell_type": "markdown",
   "metadata": {},
   "source": [
    "## Return\n",
    "\n",
    "Python provides the return keyword to allow you to use a value that your function produces.\n",
    "\n",
    "When you use return, you can assign the result of a function to a variable or use the function anywhere you would use that value.\n",
    "\n",
    "When you return in a function, none of the additional lines in the function executes\n",
    "\n",
    "    def myfunction():\n",
    "        return \"Hello\"\n",
    "        \n",
    "    greeting = myfunction()\n",
    "    print(myfunction() + \" , world\")"
   ]
  },
  {
   "cell_type": "code",
   "execution_count": null,
   "metadata": {},
   "outputs": [],
   "source": [
    "def cost_of_feed(type_of_feed):\n",
    "    cost = None\n",
    "    if type_of_feed == 'oats':\n",
    "        cost = 20\n",
    "    elif type_of_feed == 'corn':\n",
    "        cost = 5\n",
    "    elif type_of_feed == 'grass':\n",
    "        cost = 0\n",
    "    return cost\n",
    "\n",
    "oats_cost = cost_of_feed('oats')\n",
    "\n",
    "# Now I can use this value\n",
    "oats_for_farm = 150 * oats_cost\n",
    "print(\"It costs $\" + str(oats_for_farm) + \" to feed 150 horses\")"
   ]
  },
  {
   "cell_type": "markdown",
   "metadata": {},
   "source": [
    "### Print vs. return?\n",
    "Why would I use return instead of print? If you use print, you can only use what you print once, if you use return, you can store the value and use it somewhere else. You will want to use return almost every time."
   ]
  },
  {
   "cell_type": "markdown",
   "metadata": {},
   "source": [
    "### TRY IT\n",
    "Update your function ranch() from a previous try it to return the animal. Then call your function and store the result in a variable called 'animal'"
   ]
  },
  {
   "cell_type": "code",
   "execution_count": null,
   "metadata": {
    "collapsed": true
   },
   "outputs": [],
   "source": []
  },
  {
   "cell_type": "markdown",
   "metadata": {},
   "source": [
    "## Why functions?\n",
    "\n",
    "1. Avoid repetition: If you find you are writing the same lines of code again and again, write a function instead. Then there is only one place that you have to check for errors or make changes to.\n",
    "\n",
    "2. Clarify actions: Instead of having a long series of lines, you can place related code into a named function. Then you can call the function instead and it makes your intent clearer. ** Name your functions clearly ** `a()` is short to type but you'll pay for that later when you forget what it means.\n",
    "\n",
    "3. Reuse: You can create your own modules with your functions and import them into you programs. Then you only have to write some functions once."
   ]
  },
  {
   "cell_type": "markdown",
   "metadata": {},
   "source": [
    "# Project: Yahtzee roller\n",
    "\n",
    "1. Create a function called `roll_die` that returns a random number from 1-6.\n",
    "2. Create a function called `yahtzee` that rolls 5 dice. It should call roll die 5 times and save each to a different variable. Check if all five dice are equal to the same number, if so print 'Yahtzee!!'. Return the values of all five dice separated by commas in a string (remember to cast the values to strings). \n",
    "3. Call yahtzee 10 times and print the results each time. \n",
    "\n",
    "**If someone gets a yahtzee the first time they run their finished program, I'll bring cookies to the next meeting.**"
   ]
  },
  {
   "cell_type": "code",
   "execution_count": null,
   "metadata": {
    "collapsed": true
   },
   "outputs": [],
   "source": []
  }
 ],
 "metadata": {
  "anaconda-cloud": {},
  "kernelspec": {
   "display_name": "Python 3",
   "language": "python",
   "name": "python3"
  },
  "language_info": {
   "codemirror_mode": {
    "name": "ipython",
    "version": 3
   },
   "file_extension": ".py",
   "mimetype": "text/x-python",
   "name": "python",
   "nbconvert_exporter": "python",
   "pygments_lexer": "ipython3",
   "version": "3.6.3"
  }
 },
 "nbformat": 4,
 "nbformat_minor": 1
}
