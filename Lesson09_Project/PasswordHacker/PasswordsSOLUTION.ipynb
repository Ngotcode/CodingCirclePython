{
 "cells": [
  {
   "cell_type": "code",
   "execution_count": null,
   "metadata": {
    "collapsed": true
   },
   "outputs": [],
   "source": [
    "from password_check import check_user_pass, user_list"
   ]
  },
  {
   "cell_type": "code",
   "execution_count": null,
   "metadata": {
    "collapsed": true
   },
   "outputs": [],
   "source": [
    "def getallpasswords():\n",
    "    '''\n",
    "    Opens file with list of all passwords and populates a list\n",
    "    with all of the passwords. (Don't forget to strip off the newline character)\n",
    "    \n",
    "    Returns: the list of passwords\n",
    "    \n",
    "    '''\n",
    "    passwords = []\n",
    "    with open('passwords.txt') as fh:\n",
    "        for line in fh:\n",
    "            password = line.rstrip()\n",
    "            passwords.append(password)\n",
    "    return passwords"
   ]
  },
  {
   "cell_type": "code",
   "execution_count": null,
   "metadata": {
    "collapsed": true
   },
   "outputs": [],
   "source": [
    "def check_basic_passwords(user):\n",
    "    '''\n",
    "    Uses the check_user_pass function to check if a\n",
    "    user has a password that exactly matches one from the list\n",
    "    Returns: The password if there is a match, False if not\n",
    "    '''\n",
    "    for p in passwords:\n",
    "        success = check_user_pass(u, p)\n",
    "        if success:\n",
    "            return p\n",
    "    return False"
   ]
  },
  {
   "cell_type": "code",
   "execution_count": null,
   "metadata": {},
   "outputs": [],
   "source": [
    "def check_passwords_plus_number(user):\n",
    "    '''\n",
    "    Uses the check_user_pass function to check if a\n",
    "    user has a password that matches one from the list with a number from 0-9\n",
    "    either at the begining or the end of the password ex. 1password or password6\n",
    "    Returns: The password if there is a match, False if not\n",
    "    '''\n",
    "    for p in passwords:\n",
    "        for num in range(10):\n",
    "            num_pass = \"{}{}\".format(num, p)\n",
    "            pass_num = \"{}{}\".format(p, num)\n",
    "            \n",
    "            success = check_user_pass(u, num_pass)\n",
    "            if success:\n",
    "                return num_pass\n",
    "            success = check_user_pass(u, pass_num)\n",
    "            if success:\n",
    "                return pass_num\n",
    "    return False"
   ]
  },
  {
   "cell_type": "code",
   "execution_count": null,
   "metadata": {
    "collapsed": true
   },
   "outputs": [],
   "source": [
    "def check_passwords_plus_special_char(user):\n",
    "    '''\n",
    "    Uses the check_user_pass function to check if a\n",
    "    user has a password that matches one from the list with a special character \n",
    "    in the following set: . ! @ # $ % ^ & *\n",
    "    either at the begining or the end of the password ex. #password or password^\n",
    "    Returns: The password if there is a match, False if not\n",
    "    '''\n",
    "    for p in passwords:\n",
    "        for char in ['.', '!', '@', '#', '$', '%', '^', '&', '*']:\n",
    "            char_pass = \"{}{}\".format(char, p)\n",
    "            pass_char = \"{}{}\".format(p, char)\n",
    "            \n",
    "            success = check_user_pass(u, char_pass)\n",
    "            if success:\n",
    "                return char_pass\n",
    "            success = check_user_pass(u, pass_char)\n",
    "            if success:\n",
    "                return pass_char\n",
    "    return False"
   ]
  },
  {
   "cell_type": "code",
   "execution_count": null,
   "metadata": {},
   "outputs": [],
   "source": [
    "def check_passwords_plus_num_and_special_char(user):\n",
    "    '''\n",
    "    Uses the check_user_pass function to check if a\n",
    "    user has a password that matches one from the list with a special character \n",
    "    in the following set: . ! @ # $ % ^ & * and a number from 0-9\n",
    "    either at the begining or the end of the password in either order (6 possible permutations)\n",
    "    ex. #1password or 5password^ \n",
    "    Returns: The password if there is a match, False if not\n",
    "    '''\n",
    "    for p in passwords:\n",
    "        for char in ['.', '!', '@', '#', '$', '%', '^', '&', '*']:\n",
    "            for num in range(10):\n",
    "                cnpass = \"{}{}{}\".format(char, num, p)\n",
    "                ncpass = \"{}{}{}\".format(num, char, p)\n",
    "                cpassn = \"{}{}{}\".format(char, p, num)\n",
    "                npassc = \"{}{}{}\".format(num, p, char)\n",
    "                passcn = \"{}{}{}\".format(p, char, num)\n",
    "                passnc = \"{}{}{}\".format(p, num, char)\n",
    "                for pass_to_check in [cnpass, ncpass, cpassn, npassc, passcn, passnc]:\n",
    "                    success = check_user_pass(u, pass_to_check)\n",
    "                    if success:\n",
    "                        return pass_to_check\n",
    "    return False"
   ]
  },
  {
   "cell_type": "code",
   "execution_count": null,
   "metadata": {},
   "outputs": [],
   "source": [
    "def common_replacements(user):\n",
    "    '''\n",
    "    Uses the check_user_pass function to check if a\n",
    "    user has a password that matches one from the list with all of one of the vowels \n",
    "    replaced by a number with the following mapping a->4, e->3, i->1, o->0\n",
    "    ex. d0ct0r\n",
    "    Returns: The password if there is a match, False if not\n",
    "    '''\n",
    "    letters_to_numbers = {\n",
    "        'a': '4',\n",
    "        'e': '3',\n",
    "        'i': '1',\n",
    "        'o': '0',\n",
    "    }\n",
    "    for p in passwords:\n",
    "        for letter, replacement in list(letters_to_numbers.items()):\n",
    "            translated_password = p.replace(letter, replacement)\n",
    "            success = check_user_pass(u, translated_password)\n",
    "            if success:\n",
    "                return translated_password\n",
    "    return False\n",
    "                        "
   ]
  },
  {
   "cell_type": "code",
   "execution_count": null,
   "metadata": {},
   "outputs": [],
   "source": [
    "passwords = getallpasswords()\n",
    "for u in user_list:\n",
    "    password = check_basic_passwords(u) or check_passwords_plus_number(u) or \\\n",
    "        check_passwords_plus_special_char(u) or check_passwords_plus_num_and_special_char(u) or \\\n",
    "        common_replacements(u)\n",
    "    if password:\n",
    "        print(u, password)\n",
    "    else:\n",
    "        print(\"Oops\")"
   ]
  },
  {
   "cell_type": "code",
   "execution_count": null,
   "metadata": {
    "collapsed": true
   },
   "outputs": [],
   "source": []
  }
 ],
 "metadata": {
  "kernelspec": {
   "display_name": "Python 3",
   "language": "python",
   "name": "python3"
  },
  "language_info": {
   "codemirror_mode": {
    "name": "ipython",
    "version": 3
   },
   "file_extension": ".py",
   "mimetype": "text/x-python",
   "name": "python",
   "nbconvert_exporter": "python",
   "pygments_lexer": "ipython3",
   "version": "3.6.1"
  }
 },
 "nbformat": 4,
 "nbformat_minor": 1
}
