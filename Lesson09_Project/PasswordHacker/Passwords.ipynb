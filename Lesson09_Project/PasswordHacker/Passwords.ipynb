{
 "cells": [
  {
   "cell_type": "markdown",
   "metadata": {},
   "source": [
    "# Password Hacker\n",
    "\n",
    "You are going to create a program that trys to hack users passwords given a list of the top 500 (450 with the explicit ones taken out) most common passwords (available in passwords.txt). You will also add in some common trick that people use to make their password 'more secure' like adding numbers or special characters to the end of a word. This will be an eye opener to how easily passwords can be hacked.\n",
    "\n",
    "To do this you will have a list of usernames for the site you want to hack `user_list` imported from the password_check module that I wrote. You will also have access to a function `check_user_pass` that takes as parameters `username` and `password` and will return True if `password` is `username`'s password and False if it is not a match. (Imagine it is like you checking by logging into a website)\n",
    "\n",
    "    #example\n",
    "    check_user_pass('Olivia', '123456') # -> True\n",
    "    check_user_pass('Olivia', '13579') # -> False\n",
    "\n",
    "Fill in the functions starting with `getallpasswords`, and run the code. See if you can hack all seven user's passwords.\n",
    "\n",
    "Since this is a project, the training wheels are off. Instead of telling you how to do something I'm only going to tell you what to do, and you can figure out the rest. I encourage you to look back over old lessons and to take your time, this should take much longer than other end of lesson projects."
   ]
  },
  {
   "cell_type": "code",
   "execution_count": null,
   "metadata": {
    "collapsed": true
   },
   "outputs": [],
   "source": [
    "# Run this first no matter what!\n",
    "from password_check import check_user_pass, user_list"
   ]
  },
  {
   "cell_type": "code",
   "execution_count": null,
   "metadata": {
    "collapsed": true
   },
   "outputs": [],
   "source": [
    "def getallpasswords():\n",
    "    '''\n",
    "    Opens file with list of all passwords and populates a list\n",
    "    with all of the passwords. (Don't forget to strip off the newline character)\n",
    "    \n",
    "    Returns: the list of passwords\n",
    "    \n",
    "    '''\n",
    "    pass"
   ]
  },
  {
   "cell_type": "code",
   "execution_count": null,
   "metadata": {
    "collapsed": true
   },
   "outputs": [],
   "source": [
    "def check_basic_passwords(user):\n",
    "    '''\n",
    "    Uses the check_user_pass function to check if a\n",
    "    user has a password that exactly matches one from the list\n",
    "    Returns: The password if there is a match, False if not\n",
    "    '''\n",
    "    pass"
   ]
  },
  {
   "cell_type": "code",
   "execution_count": null,
   "metadata": {},
   "outputs": [],
   "source": [
    "def check_passwords_plus_number(user):\n",
    "    '''\n",
    "    Uses the check_user_pass function to check if a\n",
    "    user has a password that matches one from the list with a number from 0-9\n",
    "    either at the begining or the end of the password ex. 1password or password6\n",
    "    Returns: The password if there is a match, False if not\n",
    "    '''\n",
    "    pass"
   ]
  },
  {
   "cell_type": "code",
   "execution_count": null,
   "metadata": {
    "collapsed": true
   },
   "outputs": [],
   "source": [
    "def check_passwords_plus_special_char(user):\n",
    "    '''\n",
    "    Uses the check_user_pass function to check if a\n",
    "    user has a password that matches one from the list with a special character \n",
    "    in the following set: . ! @ # $ % ^ & *\n",
    "    either at the begining or the end of the password ex. #password or password^\n",
    "    Returns: The password if there is a match, False if not\n",
    "    '''\n",
    "    pass"
   ]
  },
  {
   "cell_type": "code",
   "execution_count": null,
   "metadata": {},
   "outputs": [],
   "source": [
    "def check_passwords_plus_num_and_special_char(user):\n",
    "    '''\n",
    "    Uses the check_user_pass function to check if a\n",
    "    user has a password that matches one from the list with a special character \n",
    "    in the following set: . ! @ # $ % ^ & * and a number from 0-9\n",
    "    either at the begining or the end of the password in either order (6 possible permutations)\n",
    "    ex. #1password or 5password^ \n",
    "    Returns: The password if there is a match, False if not\n",
    "    '''\n",
    "    pass"
   ]
  },
  {
   "cell_type": "code",
   "execution_count": null,
   "metadata": {},
   "outputs": [],
   "source": [
    "def common_replacements(user):\n",
    "    '''\n",
    "    Uses the check_user_pass function to check if a\n",
    "    user has a password that matches one from the list with all of one of the vowels \n",
    "    replaced by a number with the following mapping a->4, e->3, i->1, o->0\n",
    "    ex. d0ct0r\n",
    "    Returns: The password if there is a match, False if not\n",
    "    '''\n",
    "    pass\n",
    "                        "
   ]
  },
  {
   "cell_type": "code",
   "execution_count": null,
   "metadata": {},
   "outputs": [],
   "source": [
    "# Get a list of all passwords from the password file\n",
    "passwords = getallpasswords()\n",
    "# Loop through all users in website\n",
    "for u in user_list:\n",
    "    # Check if any passwords match (this uses short circuiting, so as soon as one function returns a password, )\n",
    "    password = check_basic_passwords(u) or check_passwords_plus_number(u) or \\\n",
    "        check_passwords_plus_special_char(u) or check_passwords_plus_num_and_special_char(u) or \\\n",
    "        common_replacements(u)\n",
    "    if password:\n",
    "        print(u, password)\n",
    "    else:\n",
    "        print(\"Oops\")\n"
   ]
  }
 ],
 "metadata": {
  "kernelspec": {
   "display_name": "Python 3",
   "language": "python",
   "name": "python3"
  },
  "language_info": {
   "codemirror_mode": {
    "name": "ipython",
    "version": 3
   },
   "file_extension": ".py",
   "mimetype": "text/x-python",
   "name": "python",
   "nbconvert_exporter": "python",
   "pygments_lexer": "ipython3",
   "version": "3.6.1"
  }
 },
 "nbformat": 4,
 "nbformat_minor": 1
}
