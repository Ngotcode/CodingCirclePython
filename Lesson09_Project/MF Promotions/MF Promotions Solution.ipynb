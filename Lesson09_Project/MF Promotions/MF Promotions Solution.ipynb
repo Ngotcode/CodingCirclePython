{
 "cells": [
  {
   "cell_type": "code",
   "execution_count": null,
   "metadata": {
    "collapsed": true
   },
   "outputs": [],
   "source": [
    "import random"
   ]
  },
  {
   "cell_type": "code",
   "execution_count": null,
   "metadata": {},
   "outputs": [],
   "source": [
    "def generateRandomPerson(level=0, new=True):\n",
    "    score = 0\n",
    "    sex = random.choice(['man', 'woman'])\n",
    "    if sex=='man':\n",
    "        score = random.normalvariate(50, 10) + 2.01\n",
    "    else:\n",
    "        score = random.normalvariate(50, 10)\n",
    "    return {\n",
    "        'sex': sex,\n",
    "        'score': score,\n",
    "        'level': level,\n",
    "        'new': new\n",
    "    }\n",
    "print(generateRandomPerson())"
   ]
  },
  {
   "cell_type": "code",
   "execution_count": null,
   "metadata": {},
   "outputs": [],
   "source": [
    "def generateStaff(levels):\n",
    "    staff = []\n",
    "    for idx, level in enumerate(levels):\n",
    "        staff.append([generateRandomPerson(level=idx, new=False) for person in range(level)])\n",
    "    return staff\n"
   ]
  },
  {
   "cell_type": "code",
   "execution_count": null,
   "metadata": {},
   "outputs": [],
   "source": [
    "def allAreNew(staff):\n",
    "    for level in staff:\n",
    "        for employee in level:\n",
    "            if not employee['new']:\n",
    "                return False\n",
    "    return True"
   ]
  },
  {
   "cell_type": "code",
   "execution_count": null,
   "metadata": {
    "collapsed": true
   },
   "outputs": [],
   "source": [
    "def quit(staff, attrition):\n",
    "    for idx, level in enumerate(staff):\n",
    "        for idx2, employee in enumerate(level):\n",
    "            rn = random.random()\n",
    "            if rn <= attrition:\n",
    "                staff[idx][idx2] = None\n",
    "    return staff"
   ]
  },
  {
   "cell_type": "code",
   "execution_count": null,
   "metadata": {},
   "outputs": [],
   "source": [
    "def pickBest(level):\n",
    "    best = None\n",
    "    bestidx = None\n",
    "    for idx, employee in enumerate(level):\n",
    "        if best is None or (employee is not None and employee['score'] > best['score']):\n",
    "            best = employee\n",
    "            bestidx = idx\n",
    "    return bestidx"
   ]
  },
  {
   "cell_type": "code",
   "execution_count": null,
   "metadata": {},
   "outputs": [],
   "source": [
    "def promote(staff):\n",
    "    for level in reversed(list(range(len(staff)))):\n",
    "        newlevel = []\n",
    "        for idx, employee in enumerate(staff[level]):\n",
    "            if employee is None:\n",
    "                if (level > 0):\n",
    "                    bestidx = pickBest(staff[level - 1])\n",
    "                    promotedemployee = staff[level - 1][bestidx]\n",
    "                    promotedemployee['level'] = level\n",
    "                    staff[level - 1][bestidx] = None\n",
    "                    newlevel.append(promotedemployee)\n",
    "                else:\n",
    "                    newlevel.append(generateRandomPerson())\n",
    "            else:\n",
    "                newlevel.append(employee)\n",
    "        staff[level] = newlevel\n",
    "    return staff"
   ]
  },
  {
   "cell_type": "code",
   "execution_count": null,
   "metadata": {},
   "outputs": [],
   "source": [
    "def mfratio(level):\n",
    "    m = 0\n",
    "    f = 0\n",
    "    for employee in level:\n",
    "        if employee['sex'] == 'man':\n",
    "            m += 1\n",
    "        else:\n",
    "            f += 1\n",
    "    return m, f, m/float(m + f), f/float(m+ f)"
   ]
  },
  {
   "cell_type": "code",
   "execution_count": null,
   "metadata": {},
   "outputs": [],
   "source": [
    "levels = [500, 350, 200, 150, 100, 75, 40, 10]\n",
    "attrition = 0.15\n",
    "staff = generateStaff(levels)\n",
    "# quit/promotion cycle until all employees are new\n",
    "while not allAreNew(staff):\n",
    "    staff =quit(staff, attrition)\n",
    "    staff = promote(staff)\n",
    "# print results\n",
    "for level in staff:\n",
    "    print(mfratio(level))"
   ]
  },
  {
   "cell_type": "code",
   "execution_count": null,
   "metadata": {},
   "outputs": [],
   "source": [
    "print(staff[-1])"
   ]
  },
  {
   "cell_type": "code",
   "execution_count": null,
   "metadata": {
    "collapsed": true
   },
   "outputs": [],
   "source": []
  }
 ],
 "metadata": {
  "kernelspec": {
   "display_name": "Python 3",
   "language": "python",
   "name": "python3"
  },
  "language_info": {
   "codemirror_mode": {
    "name": "ipython",
    "version": 3
   },
   "file_extension": ".py",
   "mimetype": "text/x-python",
   "name": "python",
   "nbconvert_exporter": "python",
   "pygments_lexer": "ipython3",
   "version": "3.6.1"
  }
 },
 "nbformat": 4,
 "nbformat_minor": 1
}
