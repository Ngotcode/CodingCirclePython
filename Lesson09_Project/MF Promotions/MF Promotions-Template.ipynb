{
 "cells": [
  {
   "cell_type": "markdown",
   "metadata": {},
   "source": [
    "### Male/Female promotions simulation (TEMPLATE)"
   ]
  },
  {
   "cell_type": "markdown",
   "metadata": {},
   "source": [
    "We are going to replicate the results in this paper: http://www.ruf.rice.edu/~lane/papers/male_female.pdf. Take a minute to read the paper. They found that small biases in evalutations of men and women in the workplace can result in a significant underrepresntation of women in top roles.\n",
    "\n",
    "    Even more dramatic is the finding that when\n",
    "    sex differences explained but 1% of the variance,\n",
    "    an estimate that might be dismissed as\n",
    "    trivial, only 35% of the highest-level positions\n",
    "    were filled by women.\n",
    "\n",
    "Essentially, we are going to set up a simulation of a company hierarchy with a modifiable bias factor. Then we will play out an attrition and promotion cycle to see how this affects gender distribution at different levels of the hierarchy.\n",
    "\n",
    "<b>Template:</b>I've started you off with a `genrateRandomPerson` function, which will be used to generate all the employees of this company. In addition, I have defined a list `levels`, which contains the number of employees at each level, and a variable `attrition`, which is the percentage of employees who are replaced each cycle.\n",
    "\n",
    "<b>Task:</b> Fill in the remaining functions and the main program, run the simulation and compare your results to those in the paper. Do you come up with the same results?"
   ]
  },
  {
   "cell_type": "code",
   "execution_count": null,
   "metadata": {
    "collapsed": true
   },
   "outputs": [],
   "source": [
    "import random"
   ]
  },
  {
   "cell_type": "code",
   "execution_count": null,
   "metadata": {},
   "outputs": [],
   "source": [
    "def generateRandomPerson(level=0, new=True):\n",
    "    \"\"\"\n",
    "    Generates a new person (dictionary) at the specified level, and whether they are new.\n",
    "    Assignes random gender and preformance score (median 50, variance 10). Men get a small bias\n",
    "    added to increase their score.\n",
    "    \"\"\"\n",
    "    score = 0\n",
    "    bias = 2.1\n",
    "    sex = random.choice(['man', 'woman'])\n",
    "    if sex == 'man':\n",
    "        score = random.normalvariate(50, 10) + bias\n",
    "    else:\n",
    "        score = random.normalvariate(50, 10)\n",
    "    return {\n",
    "        'sex': sex,\n",
    "        'score': score,\n",
    "        'level': level,\n",
    "        'new': new\n",
    "    }\n",
    "print(generateRandomPerson())"
   ]
  },
  {
   "cell_type": "code",
   "execution_count": null,
   "metadata": {},
   "outputs": [],
   "source": [
    "def generateStaff(levels):\n",
    "    \"\"\"\n",
    "    returns list of list of employees created by generateRandom person. Each element in list should have \n",
    "    a list of random employees, the length should be the same as the value at that index in the levels\n",
    "    parameter.\n",
    "    \n",
    "    Staff's level should be the index of the list they are at. new should be false.\n",
    "    \"\"\"\n",
    "    pass\n"
   ]
  },
  {
   "cell_type": "code",
   "execution_count": null,
   "metadata": {},
   "outputs": [],
   "source": [
    "def allAreNew(staff):\n",
    "    \"\"\"\n",
    "    Returns true if all staff are new, false if even one original member of staff is old\n",
    "    \"\"\"\n",
    "    pass"
   ]
  },
  {
   "cell_type": "code",
   "execution_count": null,
   "metadata": {
    "collapsed": true
   },
   "outputs": [],
   "source": [
    "def quit(staff, attrition):\n",
    "    \"\"\"\n",
    "    Use random numbers to replace `attrition` percentage of staff with None, return staff.\n",
    "    \"\"\"\n",
    "    pass"
   ]
  },
  {
   "cell_type": "code",
   "execution_count": null,
   "metadata": {},
   "outputs": [],
   "source": [
    "def pickBest(staff_level):\n",
    "    \"\"\"\n",
    "    returns a single employee with the best score from the list of employees in staff_level (there can be `None`s in the list)\n",
    "    May want to return their index too\n",
    "    \"\"\"\n",
    "    pass"
   ]
  },
  {
   "cell_type": "code",
   "execution_count": null,
   "metadata": {},
   "outputs": [],
   "source": [
    "def promote(staff):\n",
    "    \"\"\"\n",
    "    for each level in staff replaces any none employees. If the None is in level 0, replace with a newly generated employee\n",
    "    from generateRandomPerson with level =0 and new=True. Otherwise pick the best employee from the previous\n",
    "    level using the pickBest function. The promoted employee should be deleted from the previous level (replaced with None)\n",
    "    and their level key should be updated with their new level. Returns updated staff (there should be no `None` employees)\n",
    "    \"\"\"\n",
    "    pass"
   ]
  },
  {
   "cell_type": "code",
   "execution_count": null,
   "metadata": {},
   "outputs": [],
   "source": [
    "def mfratio(staff_level):\n",
    "    \"\"\"\n",
    "    For a give staff level returns a tuple of number of men, number of women, percentage men, percentage women\n",
    "    \"\"\"\n",
    "    pass"
   ]
  },
  {
   "cell_type": "code",
   "execution_count": null,
   "metadata": {},
   "outputs": [],
   "source": [
    "# Main program\n",
    "\n",
    "# Number of employes at each level (500 at the lowes, 10 at the highest)\n",
    "levels = [500, 350, 200, 150, 100, 75, 40, 10]\n",
    "\n",
    "attrition = 0.15\n",
    "# Generate staff\n",
    "# Start with a set number of iterations (5)\n",
    "# run quit and then promote and update staff with the new staff\n",
    "# print out the mfratio\n",
    "# Once that is working, update the iteration loop, to run untill all staff are new\n"
   ]
  }
 ],
 "metadata": {
  "kernelspec": {
   "display_name": "Python 3",
   "language": "python",
   "name": "python3"
  },
  "language_info": {
   "codemirror_mode": {
    "name": "ipython",
    "version": 3
   },
   "file_extension": ".py",
   "mimetype": "text/x-python",
   "name": "python",
   "nbconvert_exporter": "python",
   "pygments_lexer": "ipython3",
   "version": "3.6.1"
  }
 },
 "nbformat": 4,
 "nbformat_minor": 1
}
