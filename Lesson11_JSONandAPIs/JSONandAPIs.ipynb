{
 "cells": [
  {
   "cell_type": "markdown",
   "metadata": {},
   "source": [
    "# JSON and APIs\n",
    "\n",
    "## JSON\n",
    "\n",
    "What is JSON? From JSON.org:\n",
    "\n",
    "    JSON (JavaScript Object Notation) is a lightweight data-interchange format. It is easy for humans to read and write. It is easy for machines to parse and generate. It is based on a subset of the JavaScript Programming Language, Standard ECMA-262 3rd Edition - December 1999. JSON is a text format that is completely language independent but uses conventions that are familiar to programmers of the C-family of languages, including C, C++, C#, Java, JavaScript, Perl, Python, and many others. These properties make JSON an ideal data-interchange language.\n",
    "    \n",
    "But that isn't exactly helpful is it? JSON is a string format that allows you to store dictionaries, lists, strings, and numbers in a way that you can pass it from one source to another. You can take a Python dictionary and pass it to a perl program by printing it in JSON format and loading it or you can pull data from the web and create a python dictionary or list from that. Even if you don't understand now, after you use it, JSON will become more clear.\n",
    "\n",
    "You have in this folder a json file called `shapes.json`. Take a look at it and then we can talk about JSON format.\n",
    "\n"
   ]
  },
  {
   "cell_type": "markdown",
   "metadata": {},
   "source": [
    "## JSON Format\n",
    "\n",
    "JSON is a subset of python. You have a top level object that is either a list or a dictionary. You can have values and keys in the top level object be any of the following: strings, floats, ints, lists, boolean, null, or dictonary. To see how to represent these refer to the documentation www.json.org"
   ]
  },
  {
   "cell_type": "markdown",
   "metadata": {},
   "source": [
    "## JSON in Python\n",
    "\n",
    "To use json in python we use the module `json`. It is part of the standard library so you don't need to install anything.\n",
    "\n",
    "    import json\n"
   ]
  },
  {
   "cell_type": "code",
   "execution_count": null,
   "metadata": {
    "collapsed": true
   },
   "outputs": [],
   "source": [
    "import json"
   ]
  },
  {
   "cell_type": "markdown",
   "metadata": {},
   "source": [
    "### Loading data\n",
    "You can load data from json format into python from either a string using the `loads` method or a file handle using the `load` method. \n",
    "\n",
    "    my_list = json.loads('[1, 2, 3]')\n",
    "    with open(my_file.json) as fh:\n",
    "        my_dict = json.load(fh)"
   ]
  },
  {
   "cell_type": "code",
   "execution_count": null,
   "metadata": {},
   "outputs": [],
   "source": [
    "# Load from file\n",
    "with open('shapes.json') as fh:\n",
    "    shapes = json.load(fh)\n",
    "print(shapes)"
   ]
  },
  {
   "cell_type": "code",
   "execution_count": null,
   "metadata": {},
   "outputs": [],
   "source": [
    "# Load from string\n",
    "complex_shapes_string = '[\"pentagon\", \"spiral\", \"double helix\"]'\n",
    "complex_shapes = json.loads(complex_shapes_string)\n",
    "print(complex_shapes)"
   ]
  },
  {
   "cell_type": "markdown",
   "metadata": {},
   "source": [
    "### TRY IT\n",
    "Create a string called three_d_json which cotains the string '[\"cube\", \"sphere\"]' and then load that data into a python list using json.load."
   ]
  },
  {
   "cell_type": "code",
   "execution_count": null,
   "metadata": {
    "collapsed": true
   },
   "outputs": [],
   "source": []
  },
  {
   "cell_type": "markdown",
   "metadata": {},
   "source": [
    "### Using JSON data\n",
    "Once you load data from python format, you can now use the data like you would any other python dictionary or list."
   ]
  },
  {
   "cell_type": "code",
   "execution_count": null,
   "metadata": {},
   "outputs": [],
   "source": [
    "for shape in shapes:\n",
    "    title_shape = shape.title()\n",
    "    area_formula = shapes[shape]['area']\n",
    "    print(\"{}'s area can be calculated using {}\".format(title_shape, area_formula))"
   ]
  },
  {
   "cell_type": "markdown",
   "metadata": {},
   "source": [
    "### TRY IT\n",
    "for each shape in `complex_shapes` print \"`shape` is hard to find the area of\"."
   ]
  },
  {
   "cell_type": "code",
   "execution_count": null,
   "metadata": {
    "collapsed": true
   },
   "outputs": [],
   "source": []
  },
  {
   "cell_type": "markdown",
   "metadata": {},
   "source": [
    "### Dumping JSON Data\n",
    "\n",
    "If you want to store data from your python program into JSON format, it is as simple as loading it. To dump to a string use `json.dumps` and to dump to a file use `json.dump`. Make sure that you are using only valid json values in your list or dictionary.\n",
    "\n",
    "    json_string = json.dumps(my_list)\n",
    "    with open('json_file.json', 'w') as fh:\n",
    "        json.dump(my_dict, fh)"
   ]
  },
  {
   "cell_type": "code",
   "execution_count": null,
   "metadata": {},
   "outputs": [],
   "source": [
    "# Dumping to string\n",
    "favorite_shapes = ['hexagon', 'heart']\n",
    "fav_shapes_json = json.dumps(favorite_shapes)\n",
    "print(fav_shapes_json)"
   ]
  },
  {
   "cell_type": "code",
   "execution_count": null,
   "metadata": {},
   "outputs": [],
   "source": [
    "# Dumping to a file\n",
    "with open('fav_shapes.json', 'w') as fh:\n",
    "    json.dump(favorite_shapes, fh)"
   ]
  },
  {
   "cell_type": "markdown",
   "metadata": {},
   "source": [
    "### TRY IT\n",
    "create a list of 4 sided shapes and store in a variable called `quads`, dump `quad` to json and store the result in a variable called `quads_json`."
   ]
  },
  {
   "cell_type": "code",
   "execution_count": null,
   "metadata": {
    "collapsed": true
   },
   "outputs": [],
   "source": []
  },
  {
   "cell_type": "markdown",
   "metadata": {},
   "source": [
    "## Web APIs\n",
    "\n",
    "Web APIs are a way to retreive and send data to and from a url. The urls have a pattern so that you can retreive data programtically. With REST APIs specifically, you build a url putting data in the correct places to retreive the data you need. Many Web APIs (the best ones) return their data in JSON format. \n",
    "\n",
    "There are many free api's available, most require that you sign up to recieve an API key. You will need to read the API docs for any specific api to figure out how to get the data you want.\n",
    "\n",
    "Here are some fun APIs to try out:\n",
    "* Dropbox: https://www.dropbox.com/developers\n",
    "* Google Maps: https://developers.google.com/maps/web/\n",
    "* Twitter: https://dev.twitter.com/docs\n",
    "* YouTube: https://developers.google.com/youtube/v3/getting-started\n",
    "* Soundcloud: http://developers.soundcloud.com/docs/api/guide#playing\n",
    "* Stripe: https://stripe.com/docs/tutorials/checkout\n",
    "* Instagram: http://instagram.com/developer/\n",
    "* Twilio: https://www.twilio.com/docs\n",
    "* Yelp: http://www.yelp.com/developers/getting_started\n",
    "* Facebook: https://developers.facebook.com/docs/facebook-login/login-flow-for-web\n",
    "* Etsy: https://www.etsy.com/developers/documentation\n",
    "\n",
    "We are going to use the steam api because certain endpoints don't require an app id (and who has time to sign up for one when there is python to learn?)\n",
    "\n",
    "The endpoint we will use is one that will get us metadata info about a specific game:\n",
    "\n",
    "    http://store.steampowered.com/api/appdetails?appids=<id number>\n",
    "    \n",
    "    \n",
    "If the game doesn't exist it returns json that looks like this:\n",
    "\n",
    "        {\"1\":{\"success\":false}}\n",
    "        \n",
    "If the game does exist it returns json that looks like this:\n",
    "\n",
    "    \"100\":{  \n",
    "    \"success\":true,\n",
    "    \"data\":{  \n",
    "      \"type\":\"game\",\n",
    "      \"name\":\"Counter-Strike: Condition Zero\",\n",
    "      \"steam_appid\":80,\n",
    "      \"required_age\":0,\n",
    "      \"is_free\":false,\n",
    "      \"detailed_description\":\"With its extensive Tour of Duty campaign, a near-limitless number of skirmish modes, updates and new content for Counter-Strike's award-winning multiplayer game play, plus over 12 bonus single player missions, Counter-Strike: Condition Zero is a tremendous offering of single and multiplayer content.\",\n",
    "      \"about_the_game\":\"With its extensive Tour of Duty campaign, a near-limitless number of skirmish modes, updates and new content for Counter-Strike's award-winning multiplayer game play, plus over 12 bonus single player missions, Counter-Strike: Condition Zero is a tremendous offering of single and multiplayer content.\",\n",
    "      \"supported_languages\":\"English, French, German, Italian, Spanish, Simplified Chinese, Traditional Chinese, Korean\",\n",
    "      \"header_image\":\"http:\\/\\/cdn.akamai.steamstatic.com\\/steam\\/apps\\/80\\/header.jpg?t=1447889920\",\n",
    "      \"website\":null,\n",
    "      \"pc_requirements\":{  \n",
    "        \"minimum\":\"\\r\\n\\t\\t\\t<p><strong>Minimum:<\\/strong> 500 mhz processor, 96mb ram, 16mb video card, Windows XP, Mouse, Keyboard, Internet Connection<br \\/><\\/p>\\r\\n\\t\\t\\t<p><strong>Recommended:<\\/strong> 800 mhz processor, 128mb ram, 32mb+ video card, Windows XP, Mouse, Keyboard, Internet Connection<br \\/><\\/p>\\r\\n\\t\\t\\t\"\n",
    "      },\n",
    "      \"mac_requirements\":[  \n",
    "\n",
    "      ],\n",
    "      \"linux_requirements\":[  \n",
    "\n",
    "      ],\n",
    "      \"developers\":[  \n",
    "        \"Valve\"\n",
    "      ],\n",
    "      \"publishers\":[  \n",
    "        \"Valve\"\n",
    "      ],\n",
    "      \"price_overview\":{  \n",
    "        \"currency\":\"USD\",\n",
    "        \"initial\":999,\n",
    "        \"final\":999,\n",
    "        \"discount_percent\":0\n",
    "      },\n",
    "      \"packages\":[  \n",
    "        7\n",
    "      ],\n",
    "      \"package_groups\":[  \n",
    "        {  \n",
    "          \"name\":\"default\",\n",
    "          \"title\":\"Buy Counter-Strike: Condition Zero\",\n",
    "          \"description\":\"\",\n",
    "          \"selection_text\":\"Select a purchase option\",\n",
    "          \"save_text\":\"\",\n",
    "          \"display_type\":0,\n",
    "          \"is_recurring_subscription\":\"false\",\n",
    "          \"subs\":[  \n",
    "            {  \n",
    "              \"packageid\":7,\n",
    "              \"percent_savings_text\":\"\",\n",
    "              \"percent_savings\":0,\n",
    "              \"option_text\":\"Counter-Strike: Condition Zero $9.99\",\n",
    "              \"option_description\":\"\",\n",
    "              \"can_get_free_license\":\"0\",\n",
    "              \"is_free_license\":false,\n",
    "              \"price_in_cents_with_discount\":999\n",
    "            }\n",
    "          ]\n",
    "        }\n",
    "      ],\n",
    "      \"platforms\":{  \n",
    "        \"windows\":true,\n",
    "        \"mac\":true,\n",
    "        \"linux\":true\n",
    "      },\n",
    "      \"metacritic\":{  \n",
    "        \"score\":65,\n",
    "        \"url\":\"http:\\/\\/www.metacritic.com\\/game\\/pc\\/counter-strike-condition-zero?ftag=MCD-06-10aaa1f\"\n",
    "      },\n",
    "      \"categories\":[  \n",
    "        {  \n",
    "          \"id\":2,\n",
    "          \"description\":\"Single-player\"\n",
    "        },\n",
    "        {  \n",
    "          \"id\":1,\n",
    "          \"description\":\"Multi-player\"\n",
    "        },\n",
    "        {  \n",
    "          \"id\":8,\n",
    "          \"description\":\"Valve Anti-Cheat enabled\"\n",
    "        }\n",
    "      ],\n",
    "      \"genres\":[  \n",
    "        {  \n",
    "          \"id\":\"1\",\n",
    "          \"description\":\"Action\"\n",
    "        }\n",
    "      ],\n",
    "      \"screenshots\":[  \n",
    "        {  \n",
    "          \"id\":0,\n",
    "          \"path_thumbnail\":\"http:\\/\\/cdn.akamai.steamstatic.com\\/steam\\/apps\\/80\\/0000002528.600x338.jpg?t=1447889920\",\n",
    "          \"path_full\":\"http:\\/\\/cdn.akamai.steamstatic.com\\/steam\\/apps\\/80\\/0000002528.1920x1080.jpg?t=1447889920\"\n",
    "        },\n",
    "        {  \n",
    "          \"id\":1,\n",
    "          \"path_thumbnail\":\"http:\\/\\/cdn.akamai.steamstatic.com\\/steam\\/apps\\/80\\/0000002529.600x338.jpg?t=1447889920\",\n",
    "          \"path_full\":\"http:\\/\\/cdn.akamai.steamstatic.com\\/steam\\/apps\\/80\\/0000002529.1920x1080.jpg?t=1447889920\"\n",
    "        },\n",
    "        {  \n",
    "          \"id\":2,\n",
    "          \"path_thumbnail\":\"http:\\/\\/cdn.akamai.steamstatic.com\\/steam\\/apps\\/80\\/0000002530.600x338.jpg?t=1447889920\",\n",
    "          \"path_full\":\"http:\\/\\/cdn.akamai.steamstatic.com\\/steam\\/apps\\/80\\/0000002530.1920x1080.jpg?t=1447889920\"\n",
    "        },\n",
    "        {  \n",
    "          \"id\":3,\n",
    "          \"path_thumbnail\":\"http:\\/\\/cdn.akamai.steamstatic.com\\/steam\\/apps\\/80\\/0000002531.600x338.jpg?t=1447889920\",\n",
    "          \"path_full\":\"http:\\/\\/cdn.akamai.steamstatic.com\\/steam\\/apps\\/80\\/0000002531.1920x1080.jpg?t=1447889920\"\n",
    "        },\n",
    "        {  \n",
    "          \"id\":4,\n",
    "          \"path_thumbnail\":\"http:\\/\\/cdn.akamai.steamstatic.com\\/steam\\/apps\\/80\\/0000002532.600x338.jpg?t=1447889920\",\n",
    "          \"path_full\":\"http:\\/\\/cdn.akamai.steamstatic.com\\/steam\\/apps\\/80\\/0000002532.1920x1080.jpg?t=1447889920\"\n",
    "        },\n",
    "        {  \n",
    "          \"id\":5,\n",
    "          \"path_thumbnail\":\"http:\\/\\/cdn.akamai.steamstatic.com\\/steam\\/apps\\/80\\/0000002533.600x338.jpg?t=1447889920\",\n",
    "          \"path_full\":\"http:\\/\\/cdn.akamai.steamstatic.com\\/steam\\/apps\\/80\\/0000002533.1920x1080.jpg?t=1447889920\"\n",
    "        },\n",
    "        {  \n",
    "          \"id\":6,\n",
    "          \"path_thumbnail\":\"http:\\/\\/cdn.akamai.steamstatic.com\\/steam\\/apps\\/80\\/0000002534.600x338.jpg?t=1447889920\",\n",
    "          \"path_full\":\"http:\\/\\/cdn.akamai.steamstatic.com\\/steam\\/apps\\/80\\/0000002534.1920x1080.jpg?t=1447889920\"\n",
    "        },\n",
    "        {  \n",
    "          \"id\":7,\n",
    "          \"path_thumbnail\":\"http:\\/\\/cdn.akamai.steamstatic.com\\/steam\\/apps\\/80\\/0000002535.600x338.jpg?t=1447889920\",\n",
    "          \"path_full\":\"http:\\/\\/cdn.akamai.steamstatic.com\\/steam\\/apps\\/80\\/0000002535.1920x1080.jpg?t=1447889920\"\n",
    "        }\n",
    "      ],\n",
    "      \"recommendations\":{  \n",
    "        \"total\":6647\n",
    "      },\n",
    "      \"release_date\":{  \n",
    "        \"coming_soon\":false,\n",
    "        \"date\":\"Mar 1, 2004\"\n",
    "      },\n",
    "      \"support_info\":{  \n",
    "        \"url\":\"http:\\/\\/steamcommunity.com\\/app\\/80\",\n",
    "        \"email\":\"\"\n",
    "      },\n",
    "      \"background\":\"http:\\/\\/cdn.akamai.steamstatic.com\\/steam\\/apps\\/80\\/page_bg_generated_v6b.jpg?t=1447889920\"\n",
    "    }\n",
    "  }\n",
    "}"
   ]
  },
  {
   "cell_type": "markdown",
   "metadata": {},
   "source": [
    "You can actually use the url in a browser. Try that and see if you hit on any interesting games by entering an id number"
   ]
  },
  {
   "cell_type": "markdown",
   "metadata": {},
   "source": [
    "## Accessing API data with python\n",
    "\n",
    "There are many options for getting data from a url with python: httplib, urllib, urllib2, requests. This isn't limited to JSON data from a web api, you can get the raw html from any website. We are going to use urllib2 because it is part of the standard library and it is easy to use.\n",
    "\n",
    "First, as with any library, we import it\n",
    "\n",
    "    import urllib2\n",
    "    \n",
    "Then you open a url using the method `urlopen`\n",
    "\n",
    "    connection = urllib2.urlopen('url')\n",
    "    \n",
    "Then you can read the data\n",
    "\n",
    "    data = connection.read()"
   ]
  },
  {
   "cell_type": "code",
   "execution_count": null,
   "metadata": {
    "collapsed": true
   },
   "outputs": [],
   "source": [
    "import urllib.request, urllib.error, urllib.parse"
   ]
  },
  {
   "cell_type": "code",
   "execution_count": null,
   "metadata": {},
   "outputs": [],
   "source": [
    "game_id = str(251990)\n",
    "connection = urllib.request.urlopen('http://store.steampowered.com/api/appdetails?appids=' + game_id)\n",
    "data = connection.read()\n",
    "type(data)"
   ]
  },
  {
   "cell_type": "markdown",
   "metadata": {},
   "source": [
    "Now the result is a string, but it is valid json and we know how to turn a json string into a python dictionary: json.loads()"
   ]
  },
  {
   "cell_type": "code",
   "execution_count": null,
   "metadata": {},
   "outputs": [],
   "source": [
    "game_data = json.loads(data)\n",
    "print(type(game_data))"
   ]
  },
  {
   "cell_type": "markdown",
   "metadata": {},
   "source": [
    "Finally you can use this data just like you would any python dictionary."
   ]
  },
  {
   "cell_type": "code",
   "execution_count": null,
   "metadata": {},
   "outputs": [],
   "source": [
    "print(game_data[game_id]['data']['name'])\n",
    "print(game_data[game_id]['data']['about_the_game'])\n",
    "print(game_data[game_id]['data']['price_overview']['final'])\n"
   ]
  },
  {
   "cell_type": "markdown",
   "metadata": {},
   "source": [
    "### TRY IT\n",
    "Retreive the game data for the game with the id of 212680, parse the json and print out the game's name."
   ]
  },
  {
   "cell_type": "code",
   "execution_count": null,
   "metadata": {
    "collapsed": true
   },
   "outputs": [],
   "source": []
  },
  {
   "cell_type": "markdown",
   "metadata": {},
   "source": [
    "# Project\n",
    "\n",
    "1. You will need to sign up for a open weather api key here (FREE tier) http://openweathermap.org/price **WARNING** The free tier only let you make 60 requests an hour, so be conservitave when testing your code.\n",
    "\n",
    "2. After you sign up for an api key and then go look at the documentation for current weather: http://openweathermap.org/current\n",
    "\n",
    "3. Pick a list of three cities [London, Paris, New York] for example and use a for loop to get the current weather for each one. Use urllib2 to fetch the data from the url and the json library to decode the data into a python dictionary. \n",
    "\n",
    "4. Print the weather under the key 'weather' and then under 'description'. **HINT** Look at the result of the json in your web browser before you try to use it in your code.\n",
    "http://api.openweathermap.org/data/2.5/weather?q={city}&appid={appid}\n",
    "\n",
    "\n"
   ]
  },
  {
   "cell_type": "code",
   "execution_count": null,
   "metadata": {
    "collapsed": true
   },
   "outputs": [],
   "source": []
  }
 ],
 "metadata": {
  "kernelspec": {
   "display_name": "Python 3",
   "language": "python",
   "name": "python3"
  },
  "language_info": {
   "codemirror_mode": {
    "name": "ipython",
    "version": 3
   },
   "file_extension": ".py",
   "mimetype": "text/x-python",
   "name": "python",
   "nbconvert_exporter": "python",
   "pygments_lexer": "ipython3",
   "version": "3.6.1"
  }
 },
 "nbformat": 4,
 "nbformat_minor": 1
}
