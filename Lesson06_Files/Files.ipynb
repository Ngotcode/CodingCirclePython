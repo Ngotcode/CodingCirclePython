{
 "cells": [
  {
   "cell_type": "markdown",
   "metadata": {},
   "source": [
    "# Files\n",
    "\n",
    "## Opening Files\n",
    "\n",
    "To read a file, you must first open a file. This returns a file handle which you can used to then get the contents of a file. If the file doesn't exist this will throw an error.\n",
    "\n",
    "    file_handle = open('filename.txt')\n",
    "    \n",
    "\n",
    "Once you are done with a file, you need to close it. Bad things can happen if you don't close your files, particularly  on locking filesystems.\n",
    "\n",
    "    file_handle.close()\n"
   ]
  },
  {
   "cell_type": "code",
   "execution_count": null,
   "metadata": {},
   "outputs": [],
   "source": [
    "# Run these to get some of the files we will be using today. \n",
    "# These are the salaries of public workers in California from the website transparentcalifornia\n",
    "# The last line is downloading a short story for the project\n",
    "\n",
    "import urllib.request, urllib.parse, urllib.error\n",
    "urllib.request.urlretrieve(\"http://transparentcalifornia.com/export/san-francisco-2014.csv\", \"san-francisco-2014.csv\")\n",
    "urllib.request.urlretrieve(\"http://transparentcalifornia.com/export/san-francisco-2013.csv\", \"san-francisco-2013.csv\")\n",
    "urllib.request.urlretrieve(\"http://www.gutenberg.org/cache/epub/1952/pg1952.txt\", \"theyellowwallpaper.txt\")"
   ]
  },
  {
   "cell_type": "code",
   "execution_count": null,
   "metadata": {},
   "outputs": [],
   "source": [
    "# Opening a file\n",
    "fh = open('san-francisco-2014.csv')\n",
    "print(fh)\n",
    "fh.close()"
   ]
  },
  {
   "cell_type": "code",
   "execution_count": null,
   "metadata": {},
   "outputs": [],
   "source": [
    "# Opening a non-existent file\n",
    "fh = open('i_dont_exist.txt')\n",
    "print(fh)\n",
    "fh.close()"
   ]
  },
  {
   "cell_type": "markdown",
   "metadata": {},
   "source": [
    "### TRY IT\n",
    "Open and close the san-francisco-2013.csv file"
   ]
  },
  {
   "cell_type": "code",
   "execution_count": null,
   "metadata": {},
   "outputs": [],
   "source": []
  },
  {
   "cell_type": "markdown",
   "metadata": {},
   "source": [
    "## Text files and lines\n",
    "\n",
    "A text file is just a sequence of lines, in fact if you read it in all at once it is returns a list of strings.\n",
    "\n",
    "Each line is separated by the new line character \"\\n\". This is the special character that is inserted into text files when you hit enter (or you can deliberately put it into strings by using the special \\n syntax)."
   ]
  },
  {
   "cell_type": "code",
   "execution_count": null,
   "metadata": {},
   "outputs": [],
   "source": [
    "print(\"Golden\\nGate\\nBridge\")"
   ]
  },
  {
   "cell_type": "markdown",
   "metadata": {},
   "source": [
    "### TRY IT\n",
    "Print your name on two lines using only one print statement "
   ]
  },
  {
   "cell_type": "code",
   "execution_count": null,
   "metadata": {},
   "outputs": [],
   "source": []
  },
  {
   "cell_type": "markdown",
   "metadata": {},
   "source": [
    "## Reading from files\n",
    "\n",
    "There are two common ways to read through the file, the first (and usually better way) is to loop through the lines in the file. \n",
    "\n",
    "    for line in file_handle:\n",
    "        print line\n",
    "\n",
    "The second is to read all the lines at once and store as a string or list. \n",
    "\n",
    "    lines = file_handle.read() # stores as a single string\n",
    "    lines = file_handle.readlines() # stores as a list of strings (separates on new lines)\n",
    "\n",
    "Unless you are going to process the lines in a file several times, use the first method. It uses way less memory which will be useful if you ever have big files"
   ]
  },
  {
   "cell_type": "code",
   "execution_count": null,
   "metadata": {},
   "outputs": [],
   "source": [
    "fh = open('thingstodo.txt')\n",
    "for line in fh:\n",
    "    print(line.rstrip())\n",
    "fh.close()"
   ]
  },
  {
   "cell_type": "code",
   "execution_count": null,
   "metadata": {},
   "outputs": [],
   "source": [
    "fh = open('thingstodo.txt')\n",
    "contents = fh.read()\n",
    "fh.close()\n",
    "\n",
    "print(contents)\n",
    "print(type(contents))\n",
    "\n",
    "fh = open('thingstodo.txt')\n",
    "lines = fh.readlines()\n",
    "fh.close()\n",
    "\n",
    "print(lines)\n",
    "print(type(lines))"
   ]
  },
  {
   "cell_type": "markdown",
   "metadata": {},
   "source": [
    "### TRY IT\n",
    "Open 'san-francisco-2013.csv' and print out the first line. You can use either method. If you are using the loop method, you can 'break' after printing the first line."
   ]
  },
  {
   "cell_type": "code",
   "execution_count": null,
   "metadata": {},
   "outputs": [],
   "source": []
  },
  {
   "cell_type": "markdown",
   "metadata": {},
   "source": [
    "## Searching through a file\n",
    "\n",
    "When searching through a file, you can use string methods to discover and parse the contents.\n",
    "\n",
    "Let's look at a few examples"
   ]
  },
  {
   "cell_type": "code",
   "execution_count": null,
   "metadata": {},
   "outputs": [],
   "source": [
    "# Looking for a line that starts with something\n",
    "\n",
    "# I want to see salary data of women with my first name\n",
    "fh = open('san-francisco-2014.csv')\n",
    "for line in fh:\n",
    "    if line.startswith('Charlotte'):\n",
    "        print(line)\n",
    "fh.close()"
   ]
  },
  {
   "cell_type": "code",
   "execution_count": null,
   "metadata": {},
   "outputs": [],
   "source": [
    "# Looking for lines that contain a specific string\n",
    "fh = open('san-francisco-2014.csv')\n",
    "# Looking for all the department heads\n",
    "for line in fh:\n",
    "    # Remember if find doesn't find the string, it returns -1\n",
    "    if line.find('Dept Head') != -1:\n",
    "        print(line)\n",
    "fh.close()"
   ]
  },
  {
   "cell_type": "code",
   "execution_count": null,
   "metadata": {},
   "outputs": [],
   "source": [
    "# Counting lines that match criteria\n",
    "fh = open('san-francisco-2014.csv')\n",
    "num_trainees = 0\n",
    "for line in fh:\n",
    "    # Remember if find doesn't find the string, it returns -1\n",
    "    if line.find('Trainee') != -1:\n",
    "        num_trainees += 1\n",
    "fh.close()\n",
    "print(\"There are {0} trainees\".format(num_trainees))"
   ]
  },
  {
   "cell_type": "code",
   "execution_count": null,
   "metadata": {},
   "outputs": [],
   "source": [
    "# Splitting lines, this is great for excel like data (tsv, csv)\n",
    "# I want to see salary data of women with my name\n",
    "fh = open('san-francisco-2014.csv')\n",
    "for line in fh:\n",
    "    if line.startswith('Emily'):\n",
    "        cols = line.split(',')\n",
    "        print(cols)\n",
    "        # Salary is 3rd column\n",
    "        print(cols[1], cols[2], cols[-1])\n",
    "fh.close()"
   ]
  },
  {
   "cell_type": "markdown",
   "metadata": {},
   "source": [
    "\\* Note that sometimes you get a quoted line, instead of the title and salary. If a csv file has a comma inside a cell, the line is quoted. Thus, splitting is not the proper way to read a csv file, but it will work in a pinch. We'll learn about the `csv` module as well as other ways to read in tabular (excel-like) data in the second half of the class."
   ]
  },
  {
   "cell_type": "code",
   "execution_count": null,
   "metadata": {},
   "outputs": [],
   "source": [
    "# Skipping lines\n",
    "fh = open('thingstodo.txt')\n",
    "for line in fh:\n",
    "    if line.startswith('Golden'):\n",
    "        continue\n",
    "    print(line)\n",
    "fh.close()"
   ]
  },
  {
   "cell_type": "markdown",
   "metadata": {},
   "source": [
    "## Try, except with open\n",
    "\n",
    "If you are worried that the file might not exist, you can wrap the open in a try block\n",
    "\n",
    "    try:\n",
    "        fh = open('i_dont_exist.txt')\n",
    "    except:\n",
    "        print \"File does not exist\"\n",
    "        exit()\n",
    "        \n",
    "  \n",
    "    "
   ]
  },
  {
   "cell_type": "code",
   "execution_count": null,
   "metadata": {},
   "outputs": [],
   "source": [
    "# Opening a non-existent file\n",
    "try:\n",
    "    fh = open('i_dont_exist.txt')\n",
    "    print(fh)\n",
    "    fh.close()\n",
    "except:\n",
    "    print(\"File does not exist\")\n",
    "    #exit()\n"
   ]
  },
  {
   "cell_type": "markdown",
   "metadata": {},
   "source": [
    "## Writing to files\n",
    "\n",
    "You can write to files very easily. You need to give open a second parameter 'w' to indicate you want to open the file in write mode.\n",
    "  \n",
    "     fh_write = open('new_file.txt', 'w')\n",
    "\n",
    "Then you call the write method on the file handle. You give it the string you want to write to the file. Be careful, `write` doesn't add a new line character to the end of strings like `print` does.\n",
    "\n",
    "     fh_write.write('line to write\\n')\n",
    "     \n",
    "Just like reading files, you need to close your file when you are done.\n",
    "\n",
    "     fh_write.close()"
   ]
  },
  {
   "cell_type": "code",
   "execution_count": null,
   "metadata": {},
   "outputs": [],
   "source": [
    "fh = open('numbers.txt', 'w')\n",
    "for i in range(10):\n",
    "    fh.write(str(i) + '\\n')\n",
    "fh.close()\n",
    "\n",
    "# Now let's prove that we actaully made a file\n",
    "fh = open('numbers.txt')\n",
    "lines = fh.readlines()\n",
    "print(lines)\n",
    "fh.close()\n"
   ]
  },
  {
   "cell_type": "markdown",
   "metadata": {},
   "source": [
    "### TRY IT\n",
    "Create a file called 'my_favorite_cities.txt' and put your top 3 favorite cities each on its own line.\n",
    "\n",
    "**Bonus** check that you did it correctly by reading the lines in python"
   ]
  },
  {
   "cell_type": "code",
   "execution_count": null,
   "metadata": {},
   "outputs": [],
   "source": []
  },
  {
   "cell_type": "markdown",
   "metadata": {},
   "source": [
    "## With statement and opening files\n",
    "\n",
    "You can use with to open a file and it will automatically close the file at the end of the with block. This is the python preferred way to open files. (Sorry it took me so long to show you)\n",
    "\n",
    "    with open('filename.txt') as file_handle:\n",
    "        for line in file_handle:\n",
    "            print line\n",
    "            \n",
    "    # You don't have to close the file"
   ]
  },
  {
   "cell_type": "code",
   "execution_count": null,
   "metadata": {},
   "outputs": [],
   "source": [
    "with open('thingstodo.txt') as fh:\n",
    "    for line in fh:\n",
    "        print((line.rstrip()))"
   ]
  },
  {
   "cell_type": "markdown",
   "metadata": {},
   "source": [
    "You can also use with statements to write files"
   ]
  },
  {
   "cell_type": "code",
   "execution_count": null,
   "metadata": {},
   "outputs": [],
   "source": [
    "with open('numbers2.txt', 'w') as fh:\n",
    "    for i in range(5):\n",
    "        fh.write(str(i) + '\\n')\n",
    "with open('numbers2.txt') as fh:\n",
    "    for line in fh:\n",
    "        print((line.rstrip()))"
   ]
  },
  {
   "cell_type": "markdown",
   "metadata": {},
   "source": [
    "### TRY IT\n",
    "\n",
    "Refactor this code to use a with statement:\n",
    "    # Counting lines that match criteria\n",
    "    fh = open('san-francisco-2014.csv')\n",
    "    num_trainees = 0\n",
    "    for line in fh:\n",
    "        # Remember if find doesn't find the string, it returns -1\n",
    "        if line.find('Trainee') != -1:\n",
    "            num_trainees += 1\n",
    "    fh.close()\n",
    "    print \"There are {0} trainees\".format(num_trainees)\n"
   ]
  },
  {
   "cell_type": "code",
   "execution_count": null,
   "metadata": {},
   "outputs": [],
   "source": []
  },
  {
   "cell_type": "markdown",
   "metadata": {},
   "source": [
    "# Project \n",
    "\n",
    "We will calculate the average length of the first word in sentences in the short story \"The Yellow Wallpaper\" by Charlotte Perkins Gilman. (Feel free to use a different story, Project Gutenberg has many free ones. https://www.gutenberg.org/) This method works because in the text file, each sentence is on a separate line. If you are using another story, you may just want to go by paragraph or you can try spliting sentences on punctuation.\n",
    "\n",
    "1. Open the file in read mode using a with statement\n",
    "2. Initialize two variables sum and count to the value of 0\n",
    "3. Loop through each line. If the first character of the line is a capital letter (Check the strings lesson for the `in` keyword):\n",
    "    * Add 1 to count\n",
    "    * Split the line on spaces and find the length of the first word. Add this length to sum.\n",
    "4. Calculate the average length of first words of sentences using the sum and count variables (be careful about integer division).\n",
    "5. Open a new file 'ave_first_word_length.txt' in write mode using with statement\n",
    "6. Print the title of the story on the first line and the average first word length on the second line."
   ]
  },
  {
   "cell_type": "code",
   "execution_count": null,
   "metadata": {},
   "outputs": [],
   "source": []
  }
 ],
 "metadata": {
  "kernelspec": {
   "display_name": "Python 3",
   "language": "python",
   "name": "python3"
  },
  "language_info": {
   "codemirror_mode": {
    "name": "ipython",
    "version": 3
   },
   "file_extension": ".py",
   "mimetype": "text/x-python",
   "name": "python",
   "nbconvert_exporter": "python",
   "pygments_lexer": "ipython3",
   "version": "3.6.1"
  }
 },
 "nbformat": 4,
 "nbformat_minor": 1
}
