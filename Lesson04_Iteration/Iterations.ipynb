{
 "cells": [
  {
   "cell_type": "markdown",
   "metadata": {},
   "source": [
    "# Iterations\n",
    "\n",
    "## Updating Variables\n",
    "\n",
    "You don't need to make a new variable name every time you want to update its value (this is part of why it is called a 'variable', because its contents are variable). It is common to update a single variable.\n",
    "\n",
    "    # BAD\n",
    "    count = 0\n",
    "    count1 = count + 1\n",
    "    \n",
    "    # GOOD\n",
    "    count = 0\n",
    "    count = count + 1\n",
    "    \n",
    "    "
   ]
  },
  {
   "cell_type": "code",
   "execution_count": null,
   "metadata": {},
   "outputs": [],
   "source": [
    "count = 5\n",
    "count = count + 10\n",
    "count = count - 3\n",
    "print(count)"
   ]
  },
  {
   "cell_type": "markdown",
   "metadata": {},
   "source": [
    "Actually it is even easier. There are special operators to add, subtract, multipy, and divide into the current variable.\n",
    "\n",
    "    +=\n",
    "    -=\n",
    "    *=\n",
    "    /=\n",
    "    "
   ]
  },
  {
   "cell_type": "code",
   "execution_count": null,
   "metadata": {},
   "outputs": [],
   "source": [
    "print(count)\n",
    "count += 5\n",
    "print(count)\n",
    "count *= 2\n",
    "print(count)"
   ]
  },
  {
   "cell_type": "markdown",
   "metadata": {},
   "source": [
    "### TRY IT\n",
    "Assign 5 to the variable x and then in a new line add 2 to x and store the result back in x."
   ]
  },
  {
   "cell_type": "code",
   "execution_count": null,
   "metadata": {},
   "outputs": [],
   "source": []
  },
  {
   "cell_type": "markdown",
   "metadata": {},
   "source": [
    "## While loops\n",
    "Loops are one of the most powerful feature of programming. With a loop you can make a computer do some repetitive task over and over again (is it any wonder that computers are taking our jobs?)\n",
    "\n",
    "The while loop repeats while a condition is true and stops when that condition is false\n",
    "\n",
    "    while (condition):\n",
    "        code to run\n",
    "        \n",
    "Each time a while loop runs, the condition is checked, if the condition is true, the code inside the loop runs and then it goes back and checks the condition again."
   ]
  },
  {
   "cell_type": "code",
   "execution_count": 1,
   "metadata": {},
   "outputs": [
    {
     "name": "stdout",
     "output_type": "stream",
     "text": [
      "Snow is falling!\n",
      "Snow is falling!\n",
      "Snow is falling!\n",
      "We got 3 feet of snow :(\n"
     ]
    }
   ],
   "source": [
    "feet_of_snow = 0\n",
    "while (feet_of_snow < 3):\n",
    "    print(\"Snow is falling!\")\n",
    "    feet_of_snow += 1\n",
    "print(\"We got \" + str(feet_of_snow) + \" feet of snow :(\")"
   ]
  },
  {
   "cell_type": "markdown",
   "metadata": {},
   "source": [
    "### TRY IT\n",
    "Write out a while loop that prints out the values 1 - 5"
   ]
  },
  {
   "cell_type": "code",
   "execution_count": null,
   "metadata": {},
   "outputs": [],
   "source": []
  },
  {
   "cell_type": "markdown",
   "metadata": {},
   "source": [
    "## Infinite loops\n",
    "One thing you need to be careful of with while loops is the case where the condition never turns false. This means that the loop will keep going and going forever. You'll hear your computer's fan heat up and the program will hang. If you are doing any significant amount of programming, you will write an infinite loop, it cannot be helped. But watch out for them anyways.\n",
    "\n",
    "**HINT** To stop an infinite loop in a jupyter notebook select Kernel->Restart from the menu above.\n"
   ]
  },
  {
   "cell_type": "code",
   "execution_count": null,
   "metadata": {},
   "outputs": [],
   "source": [
    "snowflakes = 0\n",
    "# This condition is never false so this will run forever \n",
    "while (snowflakes >= 0):\n",
    "    snowflakes += 1\n",
    "    \n",
    "# If you ran this by accident, press the square (stop) button to kill the loop"
   ]
  },
  {
   "cell_type": "code",
   "execution_count": null,
   "metadata": {},
   "outputs": [],
   "source": [
    "# The other common infinite loop is forgetting to update to a counting variable\n",
    "count = 0\n",
    "while (count < 3):\n",
    "    print(\"Let it snow!\")\n"
   ]
  },
  {
   "cell_type": "markdown",
   "metadata": {},
   "source": [
    "### TRY IT\n",
    "Don't try it. Infinite loops aren't good code."
   ]
  },
  {
   "cell_type": "code",
   "execution_count": null,
   "metadata": {
    "collapsed": true
   },
   "outputs": [],
   "source": []
  },
  {
   "cell_type": "markdown",
   "metadata": {},
   "source": [
    "## Lists\n",
    "\n",
    "A list is a sequence of values. These values can be anything: strings, numbers, booleans, even other lists.\n",
    "\n",
    "To make a list you put the items separated by commas between brackets [ ]"
   ]
  },
  {
   "cell_type": "code",
   "execution_count": null,
   "metadata": {},
   "outputs": [],
   "source": [
    "weathers = ['rain', 'sun', 'snow']\n",
    "tens = [10, 10, 10, 10]\n",
    "print(weathers)\n",
    "print(tens)"
   ]
  },
  {
   "cell_type": "markdown",
   "metadata": {},
   "source": [
    "You can access a single element in a list by indexing in using brackets. List indexing starts at 0 so to get the first element, you use 0, the second element is 1 and so on.\n",
    "\n",
    "    list[index]"
   ]
  },
  {
   "cell_type": "code",
   "execution_count": null,
   "metadata": {},
   "outputs": [],
   "source": [
    "print(weathers[0])\n",
    "print(weathers[2])"
   ]
  },
  {
   "cell_type": "markdown",
   "metadata": {},
   "source": [
    "You can find the length of a list using the built-in function 'len'.\n",
    "   \n",
    "    len(list)"
   ]
  },
  {
   "cell_type": "code",
   "execution_count": null,
   "metadata": {},
   "outputs": [],
   "source": [
    "print(len(tens))"
   ]
  },
  {
   "cell_type": "markdown",
   "metadata": {},
   "source": [
    "### TRY IT\n",
    "Create a list of famous storms and store it in a variable called storms. "
   ]
  },
  {
   "cell_type": "code",
   "execution_count": null,
   "metadata": {},
   "outputs": [],
   "source": []
  },
  {
   "cell_type": "markdown",
   "metadata": {},
   "source": [
    "## Break and Continue\n",
    "There are other ways to control a loop besides its condition.\n",
    "\n",
    "The keyword break immediately exits a loop. With break you can write a loop without a terminating condition that is not an 'infinite loop'.\n",
    "\n",
    "Continue stops that iteration of the loop and goes back to the condition check."
   ]
  },
  {
   "cell_type": "code",
   "execution_count": null,
   "metadata": {},
   "outputs": [],
   "source": [
    "while True:\n",
    "    user_message = eval(input('> '))\n",
    "    # Leave when the user talks about snow.\n",
    "    if user_message == 'snow':\n",
    "        print(\"I don't want to hear about that.\")\n",
    "        break\n",
    "    print(\"and then what happened?\")"
   ]
  },
  {
   "cell_type": "code",
   "execution_count": 2,
   "metadata": {},
   "outputs": [
    {
     "name": "stdout",
     "output_type": "stream",
     "text": [
      "Storm is coming, better stock up on eggs\n",
      "Storm is coming, better stock up on milk\n",
      "Storm is coming, better stock up on bread\n",
      "No! We are not getting another puppy.\n",
      "Storm is coming, better stock up on cereal\n",
      "Storm is coming, better stock up on toilet paper\n"
     ]
    }
   ],
   "source": [
    "stock_up = ['eggs', 'milk', 'bread', 'puppies', 'cereal', 'toilet paper']\n",
    "index = 0\n",
    "while index < len(stock_up):\n",
    "    item = stock_up[index]\n",
    "    index += 1\n",
    "    # Make sure we don't stock up on puppies\n",
    "    if item == 'puppies':\n",
    "        print(\"No! We are not getting another puppy.\")\n",
    "        continue\n",
    "    print(\"Storm is coming, better stock up on \" + item)\n",
    "    "
   ]
  },
  {
   "cell_type": "markdown",
   "metadata": {},
   "source": [
    "## For loops\n",
    "\n",
    "For loops are a faster way of writing a common loop pattern. Many loops go through each element in a list. Python makes this easy.\n",
    "\n",
    "    for item in list:\n",
    "        run code for item"
   ]
  },
  {
   "cell_type": "code",
   "execution_count": null,
   "metadata": {},
   "outputs": [],
   "source": [
    "# Let's rewrite the stock up loop as a for loop (we'll add the puppies in later)\n",
    "stock_up = ['eggs', 'milk', 'bread', 'puppies', 'cereal', 'toilet paper']\n",
    "for item in stock_up:\n",
    "    print(\"Storm is coming, better stock up on \" + item)"
   ]
  },
  {
   "cell_type": "markdown",
   "metadata": {},
   "source": [
    "See how much shorter it is? If you can use a for loop, then _do_ use a for loop.\n",
    "\n",
    "Also, since we don't have to increment a counter, there is less of a chance of an infinte loop."
   ]
  },
  {
   "cell_type": "code",
   "execution_count": null,
   "metadata": {},
   "outputs": [],
   "source": [
    "# Let's add the puppies condition just to show that break and continue work with for loops too\n",
    "stock_up = ['eggs', 'milk', 'bread', 'puppies', 'cereal', 'toilet paper']\n",
    "for item in stock_up:\n",
    "    if item == 'puppies':\n",
    "        print(\"No! We are not getting another puppy\")\n",
    "        continue\n",
    "    print(\"Storm is coming, better stock up on \" + item)"
   ]
  },
  {
   "cell_type": "markdown",
   "metadata": {},
   "source": [
    "We can use loops to sum, average, or find the max or min\n",
    "\n",
    "I'll give you some examples"
   ]
  },
  {
   "cell_type": "code",
   "execution_count": 4,
   "metadata": {},
   "outputs": [
    {
     "name": "stdout",
     "output_type": "stream",
     "text": [
      "Total snow 26\n"
     ]
    }
   ],
   "source": [
    "hourly_snow_fall = [4, 3, 2, 4, 1, 4, 3, 2, 1, 1, 1, 0]\n",
    "\n",
    "# Finding the sum\n",
    "total_snow = 0\n",
    "for hour in hourly_snow_fall:\n",
    "    total_snow += hour\n",
    "print(\"Total snow \" + str(total_snow))\n",
    "\n"
   ]
  },
  {
   "cell_type": "code",
   "execution_count": 5,
   "metadata": {},
   "outputs": [
    {
     "name": "stdout",
     "output_type": "stream",
     "text": [
      "Average snow 2.3636363636363638\n"
     ]
    }
   ],
   "source": [
    "# Finding the average\n",
    "total_snow = 0\n",
    "number_snowy_hours = 0\n",
    "for hour in hourly_snow_fall:\n",
    "    if hour == 0:\n",
    "        # Ignore hours that it didn't snow\n",
    "        continue\n",
    "    total_snow += hour\n",
    "    number_snowy_hours += 1  \n",
    "ave_snow = total_snow / number_snowy_hours\n",
    "print(\"Average snow \" + str(ave_snow))\n"
   ]
  },
  {
   "cell_type": "code",
   "execution_count": 7,
   "metadata": {},
   "outputs": [
    {
     "name": "stdout",
     "output_type": "stream",
     "text": [
      "Max snow was 4\n"
     ]
    }
   ],
   "source": [
    "# Finding the max\n",
    "max_snow = 0\n",
    "for hour in hourly_snow_fall:\n",
    "    if max_snow < hour:\n",
    "        max_snow = hour\n",
    "print(\"Max snow was \" + str(max_snow))"
   ]
  },
  {
   "cell_type": "markdown",
   "metadata": {},
   "source": [
    "### TRY IT\n",
    "Write a loop that find the maximum word length of a list of words (provided). "
   ]
  },
  {
   "cell_type": "code",
   "execution_count": 8,
   "metadata": {},
   "outputs": [],
   "source": [
    "words = ['Oh', 'the', 'weather', 'outside', 'is', 'frightful', 'But', 'the', 'fire', 'is', 'so', 'delightful']\n"
   ]
  },
  {
   "cell_type": "markdown",
   "metadata": {},
   "source": [
    "By the way, at this point you could go back to the previous lesson's project Yahtzee and use a loop to play until you get a yahtzee."
   ]
  },
  {
   "cell_type": "markdown",
   "metadata": {},
   "source": [
    "## Range\n",
    "Python has a built in function called `range()` that returns a generator of integers in order\n",
    "\n",
    "     # If you only include 1 parameter it starts at zero and goes to that number-1\n",
    "     range(5) #-> [0, 1, 2, 3, 4]\n",
    "     # If you include 2 parameters it goes from [start, stop)\n",
    "     range(2,5) #-> [2,3,4]\n",
    "     # If you include 3 parameters it goes from [start, stop) and skips by the third number\n",
    "     range(1,10,2) #-> [1,3,5,7,9]\n",
    "     \n",
    "What is a generator? Well it is a list that only stores one item at a time. We can just make it a list by using type casting `list(generator)`. You can use generators without casting them to lists when you are in a loop."
   ]
  },
  {
   "cell_type": "code",
   "execution_count": null,
   "metadata": {},
   "outputs": [],
   "source": [
    "cumulative_snowfall = list(range(1, 15))\n",
    "print(list(cumulative_snowfall))"
   ]
  },
  {
   "cell_type": "markdown",
   "metadata": {},
   "source": [
    "You can use range as the iterable in a for loop instead of using a while loop with a counting variable if you just want to iterate over integers\n",
    "\n",
    "    for i in range(1,6):\n",
    "        print(i)"
   ]
  },
  {
   "cell_type": "code",
   "execution_count": 9,
   "metadata": {},
   "outputs": [
    {
     "name": "stdout",
     "output_type": "stream",
     "text": [
      "It has snowed 1 inch.\n",
      "It has snowed 2 inches.\n",
      "It has snowed 3 inches.\n",
      "It has snowed 4 inches.\n",
      "It has snowed 5 inches.\n",
      "It has snowed 6 inches.\n"
     ]
    }
   ],
   "source": [
    "for inches in range(1,7):\n",
    "    suffix = \" inch\"\n",
    "    if inches == 1:\n",
    "        suffix += \".\"\n",
    "    else:\n",
    "        suffix += \"es.\"\n",
    "    print(\"It has snowed \" + str(inches) + suffix)"
   ]
  },
  {
   "cell_type": "markdown",
   "metadata": {},
   "source": [
    "### TRY IT\n",
    "Create a for loop that prints out the values 1 - 5 using `range()`"
   ]
  },
  {
   "cell_type": "code",
   "execution_count": null,
   "metadata": {},
   "outputs": [],
   "source": []
  },
  {
   "cell_type": "markdown",
   "metadata": {},
   "source": [
    "# Project: Wanderer\n",
    "\n",
    "We are going to create a program that lets a user move N, S, E, or W and keeps track of their location. In phase two, we will introduce a treasure and let the user know if they found it.\n",
    "## Phase 1: wandering\n",
    "1. Initialize two variables `wanderer_x` and `wanderer_y` to 0.\n",
    "2. In an infinate while loop:\n",
    "    - prompt the user \"Which direction would you like to travel in? (N, S, E, or W. done to quit)\" and store in a variable called `direction`\n",
    "    - Update the user's location depending on their choice: add 1 to `wanderer_x` if E, subtract 1 from `wanderer_x` if W, add 1 to `wanderer_y` if N, subtract 1 from `wanderer_y` if S.\n",
    "    - If their response is 'done' break out of the loop.\n",
    "3. Tell the user their location \n",
    "\n",
    "## Phase 2: treasure\n",
    "1. Initialize `treasure_x` and `treasure_y` to integers of your choice (don't make them too big or you'll have to spend too long to treasure hunt). Include this after you initialize the wanderer's location.\n",
    "2. In the while loop, after the user's location has been updated, if they are in the same location as the treasure, congratulate them and break out of the loop.\n",
    "\n",
    "## Phase 3: adventure!\n",
    "Here are some ideas for how to improve your program.\n",
    "1. Make the location of the treasure random. ( x and y between -10 and 10)\n",
    "2. Set a time limit to find the treasure. Instead of an infinite loop, use a for loop from 0 - 50.\n",
    "3. Tell the user how far they walked d = sqrt( (x2 - x1)^2 + (y2 - y1)^2) **Hint** check the math module\n",
    "4. You should probably make \\#3 a function called `distance` that takes four parameters (`x1`, `x2`, `y1`, `y2`) and returns the distance.\n",
    "5. Now that you have your distance formula see if you can make your program say 'warmer' or 'colder' depending on if their distance is closer or further from the treasure than last time (remember to store the last time).\n",
    "6. You might want to add some error checking for if the user says something besides N, S, E, W, or done. "
   ]
  },
  {
   "cell_type": "code",
   "execution_count": null,
   "metadata": {},
   "outputs": [],
   "source": []
  }
 ],
 "metadata": {
  "kernelspec": {
   "display_name": "Python 3",
   "language": "python",
   "name": "python3"
  },
  "language_info": {
   "codemirror_mode": {
    "name": "ipython",
    "version": 3
   },
   "file_extension": ".py",
   "mimetype": "text/x-python",
   "name": "python",
   "nbconvert_exporter": "python",
   "pygments_lexer": "ipython3",
   "version": "3.6.4"
  }
 },
 "nbformat": 4,
 "nbformat_minor": 1
}
