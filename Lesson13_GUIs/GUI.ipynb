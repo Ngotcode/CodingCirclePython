{
 "cells": [
  {
   "cell_type": "markdown",
   "metadata": {},
   "source": [
    "# GUI\n",
    "\n",
    "Python has a few options for creating GUIs (Graphical User Interfaces). We will learn Tkinter because it is part of the standard library and easy to use. \n",
    "\n",
    "GUIs are a type of user interface that allows users to run your program using viusal indicators like buttons, text boxes, and scroll bars. If you are creating a program that will be run by a casual user, a GUI is a good option. \n",
    "\n",
    "Tkinter provides a python interface to the Tk GUI toolkit. Tk is a cross platform library that allows creating of native desktop GUI elements."
   ]
  },
  {
   "cell_type": "markdown",
   "metadata": {},
   "source": [
    "Tkinter is a module, so to start, we will have to import it\n",
    "\n",
    "    import Tkinter"
   ]
  },
  {
   "cell_type": "code",
   "execution_count": null,
   "metadata": {},
   "outputs": [],
   "source": [
    "import tkinter"
   ]
  },
  {
   "cell_type": "markdown",
   "metadata": {},
   "source": [
    "## Creating the main window\n",
    "\n",
    "You will want to create the applications main window that the action will take place in. To do this, you create a Tk object\n",
    "\n",
    "    root = Tkinter.Tk()"
   ]
  },
  {
   "cell_type": "code",
   "execution_count": null,
   "metadata": {},
   "outputs": [],
   "source": [
    "root = Tkinter.Tk()"
   ]
  },
  {
   "cell_type": "markdown",
   "metadata": {},
   "source": [
    "That didn't do much, did it. To actually create the window you have to run the mainloop function on your main window\n",
    "\n",
    "    root.mainloop()\n",
    "    \n",
    "This creates the window and starts listening for actions that the user takes. This is an infinite loop, and is one of the cases where an infinite loop is actually useful (don't worry, clicking the close button on the window will break out for the loop)."
   ]
  },
  {
   "cell_type": "code",
   "execution_count": null,
   "metadata": {
    "collapsed": true
   },
   "outputs": [],
   "source": [
    "root.mainloop()"
   ]
  },
  {
   "cell_type": "markdown",
   "metadata": {},
   "source": [
    "## Deleting the main window\n",
    "\n",
    "To quit a Tkinter application, you run the destroy method on the main window\n",
    "\n",
    "    root.destroy()\n",
    "    \n",
    "This won't do anything until you are broken out of the main loop, but it will cleanup after that happens."
   ]
  },
  {
   "cell_type": "code",
   "execution_count": null,
   "metadata": {},
   "outputs": [],
   "source": [
    "root.destroy()"
   ]
  },
  {
   "cell_type": "markdown",
   "metadata": {},
   "source": [
    "### TRY IT\n",
    "Create a tkinter app main window and store it in the variable `top` run the `mainloop` function on it."
   ]
  },
  {
   "cell_type": "code",
   "execution_count": null,
   "metadata": {},
   "outputs": [],
   "source": []
  },
  {
   "cell_type": "markdown",
   "metadata": {},
   "source": [
    "## Widgets\n",
    "\n",
    "So far our GUI has been pretty boring. To make it useful we have to add \"widgets\" to it. Widgets are things like buttons, textboxes, labels, etc. Anything you would expect to have in a desktop application.\n",
    "\n",
    "You need to create the widget after creating the main window, but before running `mainloop`\n",
    "\n",
    "You will also need to let Tkinter know how to layout your widgets. Right now we will just use the `pack` method with no arguments.\n",
    "\n",
    "    widget.pack()"
   ]
  },
  {
   "cell_type": "markdown",
   "metadata": {},
   "source": [
    "### Button\n",
    "\n",
    "You can create a button that when pressed will run a function. To do that you run the Button function. It takes the parent window as the first parameter, and then a list of key value params as options for look and feel, text, and command - the function that will run when the button is pushed. It returns a reference to the widget.\n",
    "\n",
    "    my_button = Tkinter.Button(window, text='my text', callback=myfunction)"
   ]
  },
  {
   "cell_type": "code",
   "execution_count": null,
   "metadata": {},
   "outputs": [],
   "source": [
    "# A basic button\n",
    "root = Tkinter.Tk()\n",
    "# Widgets go here\n",
    "w = Tkinter.Button(root, text='Hello')\n",
    "w.pack()\n",
    "\n",
    "# Run the gui\n",
    "root.mainloop()"
   ]
  },
  {
   "cell_type": "code",
   "execution_count": null,
   "metadata": {},
   "outputs": [],
   "source": [
    "# a button with a callback\n",
    "def my_callback():\n",
    "    print(\"Here i am\")\n",
    "\n",
    "root = Tkinter.Tk()\n",
    "# Widgets go here\n",
    "w = Tkinter.Button(root, text='Hello', command=my_callback)\n",
    "w.pack()\n",
    "\n",
    "# Run the gui\n",
    "root.mainloop()"
   ]
  },
  {
   "cell_type": "markdown",
   "metadata": {},
   "source": [
    "### Label\n",
    "A Label provides a space for the GUI programmer to place text on the screen\n",
    "\n",
    "    l = Tkinter.Label(mainwindow, text='label text')"
   ]
  },
  {
   "cell_type": "code",
   "execution_count": null,
   "metadata": {},
   "outputs": [],
   "source": [
    "# A basic label\n",
    "root = Tkinter.Tk()\n",
    "# Widgets go here\n",
    "w = Tkinter.Label(root, text='Hello')\n",
    "w.pack()\n",
    "\n",
    "\n",
    "# Run the gui\n",
    "root.mainloop()"
   ]
  },
  {
   "cell_type": "markdown",
   "metadata": {},
   "source": [
    "If you want to be able to update the text in a label, you will need to use a `StringVar` for the text, and instead of using text keyword param, you will use textvaribale keyword parameter.\n",
    "\n",
    "    var = Tkinter.StringVar()\n",
    "    l = Label(root, texvariable=var)\n",
    "    l.pack()\n",
    "    \n",
    "    var.set('New text')"
   ]
  },
  {
   "cell_type": "code",
   "execution_count": null,
   "metadata": {
    "collapsed": true
   },
   "outputs": [],
   "source": [
    "# A changeable label\n",
    "root = Tkinter.Tk()\n",
    "# Widgets go here\n",
    "v = Tkinter.StringVar()\n",
    "w = Tkinter.Label(root, textvariable=v)\n",
    "w.pack()\n",
    "v.set('Aaaah')\n",
    "\n",
    "\n",
    "# Run the gui\n",
    "root.mainloop()"
   ]
  },
  {
   "cell_type": "markdown",
   "metadata": {},
   "source": [
    "### Entry\n",
    "An entry accepts a single text line from a user.\n",
    "\n",
    "    w = Entry(root)\n",
    "\n",
    "To get the data from an entry, you can use the get method\n",
    "\n",
    "    w = Entry(root)\n",
    "    text = w.get()\n",
    "    "
   ]
  },
  {
   "cell_type": "code",
   "execution_count": null,
   "metadata": {},
   "outputs": [],
   "source": [
    "# A basic entry\n",
    "root = Tkinter.Tk()\n",
    "e = Tkinter.Entry(root)\n",
    "e.pack()\n",
    "root.mainloop()"
   ]
  },
  {
   "cell_type": "code",
   "execution_count": null,
   "metadata": {},
   "outputs": [],
   "source": [
    "# An entry where we get the text entered.\n",
    "def what_entered():\n",
    "    print(e.get())\n",
    "\n",
    "root = Tkinter.Tk()\n",
    "\n",
    "e = Tkinter.Entry(root)\n",
    "e.pack()\n",
    "\n",
    "# Click to button to see what teh text entered is\n",
    "b = Tkinter.Button(root, text='Say What?', command=what_entered)\n",
    "b.pack()\n",
    "\n",
    "root.mainloop()"
   ]
  },
  {
   "cell_type": "markdown",
   "metadata": {},
   "source": [
    "### TRY IT\n",
    "Create a GUI that has a Label that says \"What is your name?\" and an entry to enter it. If you are feeling confident, add a button that will print out the name to the screen when pressed. "
   ]
  },
  {
   "cell_type": "code",
   "execution_count": null,
   "metadata": {
    "collapsed": true
   },
   "outputs": [],
   "source": []
  },
  {
   "cell_type": "markdown",
   "metadata": {},
   "source": [
    "There are many other types of widgets including canvas for drawing images and shapes, menubutton for creating menus, radio and lists for making selection, and lots of other. Look to the documentation for more info: https://docs.python.org/2/library/tkinter.html"
   ]
  },
  {
   "cell_type": "markdown",
   "metadata": {},
   "source": [
    "## Event driven programming\n",
    "\n",
    "GUI programming uses a different model of programming than we are used to. In the past our program has run from top to bottom and the only way to change the outputs was to change the inputs (or use random...)\n",
    "\n",
    "In GUIs we use event driven programming where we create our application and then listen for events like a user clicking a button or entering some data. When an event is created, then the callback function associated with that event runs. Then the next event causes a callback to run. This all happens in an infinite loop (`mainloop`) which is broken by you either calling destroy or close in your code in response to an event or by clicking the close button for the window.\n",
    "\n",
    "In Event driven programming, the user determines the workflow. It will take some time to get used to thinking in these terms."
   ]
  },
  {
   "cell_type": "markdown",
   "metadata": {},
   "source": [
    "### TRY IT\n",
    "Give yourself a few minutes to think about event driven programming and how it is different than the previous programs you have written."
   ]
  },
  {
   "cell_type": "code",
   "execution_count": null,
   "metadata": {
    "collapsed": true
   },
   "outputs": [],
   "source": []
  },
  {
   "cell_type": "markdown",
   "metadata": {},
   "source": [
    "## Attributes\n",
    "In the keyword arguments all widgets can take some attribute parameters. These can determine the widget's dimensions, colors, fonts, image, etc."
   ]
  },
  {
   "cell_type": "markdown",
   "metadata": {},
   "source": [
    "### Size\n",
    "\n",
    "* height - height of element\n",
    "* width - width of element\n",
    "\n"
   ]
  },
  {
   "cell_type": "code",
   "execution_count": null,
   "metadata": {},
   "outputs": [],
   "source": [
    "# A basic button\n",
    "root = Tkinter.Tk()\n",
    "# Widgets go here\n",
    "w = Tkinter.Button(root, text='Hello', width=50, height=1)\n",
    "w.pack()\n",
    "\n",
    "# Run the gui\n",
    "root.mainloop()"
   ]
  },
  {
   "cell_type": "markdown",
   "metadata": {},
   "source": [
    "### Color\n",
    "\n",
    "* fg - foreground color of widget\n",
    "* bg - background color of widget\n",
    "\n",
    "Color can be in hex: \"#ff0000\" or in words \"red\", \"green\", \"blue\". Hex is preferred."
   ]
  },
  {
   "cell_type": "code",
   "execution_count": null,
   "metadata": {},
   "outputs": [],
   "source": [
    "# A basic button\n",
    "root = Tkinter.Tk()\n",
    "# Widgets go here\n",
    "w = Tkinter.Button(root, text='Hello', fg=\"red\", bg=\"#00aaff\")\n",
    "w.pack()\n",
    "\n",
    "# Run the gui\n",
    "root.mainloop()"
   ]
  },
  {
   "cell_type": "markdown",
   "metadata": {},
   "source": [
    "### TRY IT\n",
    "Create a really, really big label that screams 'AAAAAAHHHHHHH!'"
   ]
  },
  {
   "cell_type": "code",
   "execution_count": null,
   "metadata": {
    "collapsed": true
   },
   "outputs": [],
   "source": []
  },
  {
   "cell_type": "markdown",
   "metadata": {},
   "source": [
    "## Geometry\n",
    "\n",
    "You can organize your widgets using geometry management. So far we have been using the `pack` method with no arguments. But you can have arguments, or use `grid` to create a table or `place` to put them in specific positions."
   ]
  },
  {
   "cell_type": "markdown",
   "metadata": {},
   "source": [
    "### Pack\n",
    "Pack can take some parameters\n",
    "* expand - True/False, widget should fill all space in widget's parent\n",
    "* side - which side to pack the widget against (TOP, BOTTOM, LEFT, RIGHT)\n",
    "* fill - should widget fill extra space"
   ]
  },
  {
   "cell_type": "code",
   "execution_count": null,
   "metadata": {
    "collapsed": true
   },
   "outputs": [],
   "source": [
    "# A basic button\n",
    "root = Tkinter.Tk()\n",
    "# Widgets go here\n",
    "w = Tkinter.Button(root, text='Hello')\n",
    "w.pack(side=Tkinter.LEFT)\n",
    "\n",
    "# Run the gui\n",
    "root.mainloop()"
   ]
  },
  {
   "cell_type": "markdown",
   "metadata": {},
   "source": [
    "### Grid\n",
    "\n",
    "You can lay out your widgets in a table like fashion using grid.\n",
    "\n",
    "* column - column to put widget in\n",
    "* row - row to put widget in\n",
    "* columnspan - how many columns a widget occupies (default 1)\n",
    "* rowspan - how many rows a widget occupies (default 1)"
   ]
  },
  {
   "cell_type": "code",
   "execution_count": null,
   "metadata": {
    "collapsed": true
   },
   "outputs": [],
   "source": [
    "# A basic button\n",
    "root = Tkinter.Tk()\n",
    "# Widgets go here\n",
    "for i in range(3):\n",
    "    for j in range(4):\n",
    "        text = \"{}-{}\".format(i, j)\n",
    "        w = Tkinter.Button(root, text=text)\n",
    "        w.grid(row = i, column = j)\n",
    "\n",
    "# Run the gui\n",
    "root.mainloop()"
   ]
  },
  {
   "cell_type": "markdown",
   "metadata": {},
   "source": [
    "### TRY IT\n",
    "Create two labels \"enter\" on the left and \"exit\" on the right"
   ]
  },
  {
   "cell_type": "code",
   "execution_count": null,
   "metadata": {
    "collapsed": true
   },
   "outputs": [],
   "source": []
  },
  {
   "cell_type": "markdown",
   "metadata": {},
   "source": [
    "# Project: BMI Calculator\n",
    "You will create a gui that calculates BMI. The formula is \n",
    "\n",
    "(weight/ height^2) x 703\n",
    "\n",
    "with weight in pounds and height in inches.\n",
    "\n",
    "1. Create your tkinter main window.\n",
    "2. Create a label \"Height (inches)\" and next to that an Entry and store the entry is a variable called `height`\n",
    "3. Create a label \"Weight (pounds)\" and next to that an Entry and store the entry is a variable called `weight`\n",
    "4. Create a button with the text 'Calculate BMI'\n",
    "5. Create a label that uses a StringVar that doesn't say anything yet, but will be used to print the BMI later.\n",
    "6. Create a callback function called calculate that converts the data from the height and weight entries to numbers and then calculates BMI. Finally, it should set the string var to \"BMI: \" + `bmi`"
   ]
  },
  {
   "cell_type": "code",
   "execution_count": null,
   "metadata": {
    "collapsed": true
   },
   "outputs": [],
   "source": []
  }
 ],
 "metadata": {
  "kernelspec": {
   "display_name": "Python 3",
   "language": "python",
   "name": "python3"
  },
  "language_info": {
   "codemirror_mode": {
    "name": "ipython",
    "version": 3
   },
   "file_extension": ".py",
   "mimetype": "text/x-python",
   "name": "python",
   "nbconvert_exporter": "python",
   "pygments_lexer": "ipython3",
   "version": "3.6.1"
  }
 },
 "nbformat": 4,
 "nbformat_minor": 1
}
