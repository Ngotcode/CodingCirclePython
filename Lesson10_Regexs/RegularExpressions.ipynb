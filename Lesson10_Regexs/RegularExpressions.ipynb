{
 "cells": [
  {
   "cell_type": "markdown",
   "metadata": {},
   "source": [
    "# Regexs\n",
    "\n",
    "Up until now, to search in text we have used string methods find, startswith, endswith, etc. But sometimes you need more power.\n",
    "\n",
    "Regular expressions are their own little language that allows you to search through text and find matches with incredibly  complex patterns. \n",
    "\n",
    "A regular expression, also referred to as \"regex\" or \"regexp\", provides a concise and flexible means for matching strings of text, such as particular characters, words, or patterns of characters.\n",
    "\n",
    "To use regular you need to import python's regex library `re`\n",
    "https://docs.python.org/2/library/re.html"
   ]
  },
  {
   "cell_type": "code",
   "execution_count": null,
   "metadata": {
    "collapsed": true
   },
   "outputs": [],
   "source": [
    "import re"
   ]
  },
  {
   "cell_type": "code",
   "execution_count": null,
   "metadata": {
    "collapsed": true
   },
   "outputs": [],
   "source": [
    "# To run the examples we are going to use some of the logs from the \n",
    "# django project, a web framework for python\n",
    "\n",
    "django_logs = '''commit 722344ee59fb89ea2cd5b906d61b35f76579de4e\n",
    "Author: Simon Charette <charette.s@gmail.com>\n",
    "Date:   Thu May 19 09:31:49 2016 -0400\n",
    "\n",
    "    Refs #24067 -- Fixed contenttypes rename tests failures on Oracle.\n",
    "\n",
    "    Broke the initial migration in two to work around #25530 and added\n",
    "    'django.contrib.auth' to the available_apps to make sure its tables are also\n",
    "    flushed as Oracle doesn't implement cascade deletion in sql_flush().\n",
    "\n",
    "    Thanks Tim for the report.\n",
    "\n",
    "commit 9fed4ec418a4e391a3af8790137ab147efaf17c2\n",
    "Author: Simon Charette <charette.s@gmail.com>\n",
    "Date:   Sat May 21 13:18:22 2016 -0400\n",
    "\n",
    "    Removed an obsolete comment about a fixed ticket.\n",
    "\n",
    "commit 94486fb005e878d629595942679ba6d23401bc22\n",
    "Author: Markus Holtermann <info@markusholtermann.eu>\n",
    "Date:   Sat May 21 13:20:40 2016 +0200\n",
    "\n",
    "    Revert \"Disable patch coverage checks\"\n",
    "\n",
    "    Mistakenly pushed to django/django instead of another repo\n",
    "\n",
    "    This reverts commit 6dde884c01156e36681aa51a5e0de4efa9575cfd.\n",
    "\n",
    "commit 6dde884c01156e36681aa51a5e0de4efa9575cfd\n",
    "Author: Markus Holtermann <info@markusholtermann.eu>\n",
    "Date:   Sat May 21 13:18:18 2016 +0200\n",
    "\n",
    "    Disable patch coverage checks\n",
    "\n",
    "commit 46a38307c245ab7ed0b4d5d5ebbaf523a81e3b75\n",
    "Author: Tim Graham <timograham@gmail.com>\n",
    "Date:   Fri May 20 10:50:51 2016 -0400\n",
    "\n",
    "    Removed versionadded/changed annotations for 1.9.\n",
    "\n",
    "commit 1915a7e5c56d996b0e98decf8798c7f47ff04e76\n",
    "Author: Tim Graham <timograham@gmail.com>\n",
    "Date:   Fri May 20 09:18:55 2016 -0400\n",
    "\n",
    "    Increased the default PBKDF2 iterations.\n",
    "\n",
    "commit 97c3dfe12e095005dad9e6750ad5c5a54eee8721\n",
    "Author: Tim Graham <timograham@gmail.com>\n",
    "Date:   Thu May 19 22:28:24 2016 -0400\n",
    "\n",
    "    Added stub 1.11 release notes.\n",
    "\n",
    "commit 8df083a3ce21ca73ff77d3844a578f3da3ae78d7\n",
    "Author: Tim Graham <timograham@gmail.com>\n",
    "Date:   Thu May 19 22:20:21 2016 -0400\n",
    "\n",
    "    Bumped version; master is now 1.11 pre-alpha.'''"
   ]
  },
  {
   "cell_type": "markdown",
   "metadata": {},
   "source": [
    "## Searching\n",
    "\n",
    "The simplest thing you can do with regexs in python is search through text to see if there is a match. To do this you use the methods `search` or `match`. `match` only checks if it matches at the beginning of the string and `search` check the whole string.\n",
    "\n",
    "    re.match(pattern, string)  \n",
    "    re.search(pattern, string) "
   ]
  },
  {
   "cell_type": "code",
   "execution_count": null,
   "metadata": {},
   "outputs": [],
   "source": [
    "print(re.match('a', 'abcde'))\n",
    "print(re.match('c', 'abcde'))"
   ]
  },
  {
   "cell_type": "code",
   "execution_count": null,
   "metadata": {},
   "outputs": [],
   "source": [
    "print(re.search('a', 'abcde'))\n",
    "print(re.search('c', 'abcde'))"
   ]
  },
  {
   "cell_type": "code",
   "execution_count": null,
   "metadata": {},
   "outputs": [],
   "source": [
    "print(re.match('version', django_logs))\n",
    "print(re.search('version', django_logs))"
   ]
  },
  {
   "cell_type": "code",
   "execution_count": null,
   "metadata": {},
   "outputs": [],
   "source": [
    "if re.search('commit', django_logs):\n",
    "    print(\"Someone has been doing work.\")"
   ]
  },
  {
   "cell_type": "markdown",
   "metadata": {},
   "source": [
    "### TRY IT\n",
    "Search for the word May in the django logs"
   ]
  },
  {
   "cell_type": "code",
   "execution_count": null,
   "metadata": {},
   "outputs": [],
   "source": []
  },
  {
   "cell_type": "markdown",
   "metadata": {},
   "source": [
    "# Special Characters\n",
    "So far we can't do anything that you couldn't do with find, but don't worry. Regexs have many special characters to allow you to look for thing like the beginning  of a word, whitespace or classes of characters.\n",
    "\n",
    "You include the character in the pattern.\n",
    "\n",
    "* ^ \t\tMatches the beginning of a line\n",
    "* $ \t\tMatches the end of the line\n",
    "* . \t\tMatches any character\n",
    "* \\s \t\tMatches whitespace\n",
    "* \\S \t\tMatches any non-whitespace character\n",
    "* \\* \t\tRepeats a character zero or more times\n",
    "* \\*? \t\tRepeats a character zero or more times (non-greedy)\n",
    "* \\+ \t\tRepeats a character one or more times\n",
    "* +? \t\tRepeats a character one or more times (non-greedy)\n",
    "* ?         Repeats a character 0 or one time\n",
    "* [aeiou] \tMatches a single character in the listed set\n",
    "* [^XYZ] \tMatches a single character not in the listed set\n",
    "* [a-z0-9] \tThe set of characters can include a range\n",
    "* {10}      Specifics a match the preceding character(s) {num} number or times\n",
    "* \\d        Matches any digit\n",
    "* \\b        Matches a word boundary\n",
    "\n",
    "\n",
    "**Hint** if you want to match the literal character (like $) as opposed to its special meaning, you would escape it with a `\\`"
   ]
  },
  {
   "cell_type": "code",
   "execution_count": null,
   "metadata": {},
   "outputs": [],
   "source": [
    "# Start simple, match any character 2 times\n",
    "print(re.search('..', django_logs))\n",
    "\n",
    "# just to prove it works\n",
    "print(re.search('..', 'aa'))\n",
    "print(re.search('..', 'a'))\n",
    "print(re.search('..', '^%'))"
   ]
  },
  {
   "cell_type": "code",
   "execution_count": null,
   "metadata": {},
   "outputs": [],
   "source": [
    "# to match a commit hash (numbers and letters a-f repeated) we can use a regex\n",
    "commit_pattern = '[0-9a-f]+'\n",
    "print(re.search(commit_pattern, django_logs))\n"
   ]
  },
  {
   "cell_type": "code",
   "execution_count": null,
   "metadata": {},
   "outputs": [],
   "source": [
    "# Let's match the time syntax\n",
    "time_pattern = '\\d\\d:\\d\\d:\\d\\d'\n",
    "time_pattern = '\\d{2}:\\d{2}:\\d{2}'\n",
    "print(re.search(time_pattern, django_logs))"
   ]
  },
  {
   "cell_type": "markdown",
   "metadata": {},
   "source": [
    "### TRY IT\n",
    "Match anything between angled brackets < >"
   ]
  },
  {
   "cell_type": "code",
   "execution_count": null,
   "metadata": {},
   "outputs": [],
   "source": []
  },
  {
   "cell_type": "markdown",
   "metadata": {},
   "source": [
    "# Ignoring case\n",
    "match and search both take an optional third argument that allows you to include flags. The most common flag is ignore case.\n",
    "\n",
    "    re.search(pattern, string, re.IGNORECASE)\n",
    "    re.match(pattern, string, re.IGNORECASE)"
   ]
  },
  {
   "cell_type": "code",
   "execution_count": null,
   "metadata": {},
   "outputs": [],
   "source": [
    "print(re.search('markus holtermann', django_logs))\n",
    "print(re.search('markus holtermann', django_logs, re.IGNORECASE))"
   ]
  },
  {
   "cell_type": "markdown",
   "metadata": {},
   "source": [
    "### TRY IT\n",
    "search for 'django' in 'Both Django and Flask are very useful python frameworks' ignoring case"
   ]
  },
  {
   "cell_type": "code",
   "execution_count": null,
   "metadata": {},
   "outputs": [],
   "source": []
  },
  {
   "cell_type": "markdown",
   "metadata": {},
   "source": [
    "# Extracting Matches\n",
    "Finding is only half the battle. You can also extract what you match.\n",
    "\n",
    "To get the string that your regex matched you can store the match object in a variable and run the group method on that\n",
    "\n",
    "    m = re.search(pattern, string)\n",
    "    print m.group(0)"
   ]
  },
  {
   "cell_type": "code",
   "execution_count": null,
   "metadata": {},
   "outputs": [],
   "source": [
    "# Let's match the time syntax\n",
    "time_pattern = '\\d\\d:\\d\\d:\\d\\d'\n",
    "m = re.search(time_pattern, django_logs)\n",
    "print(m.group(0))"
   ]
  },
  {
   "cell_type": "markdown",
   "metadata": {},
   "source": [
    "If you want to find all the matches, not just the first, you can use the findall method. It returns a list of all the matches\n",
    "\n",
    "    re.findall(pattern, string)"
   ]
  },
  {
   "cell_type": "code",
   "execution_count": null,
   "metadata": {},
   "outputs": [],
   "source": [
    "time_pattern = '\\d\\d:\\d\\d:\\d\\d'\n",
    "print(re.findall(time_pattern, django_logs))"
   ]
  },
  {
   "cell_type": "markdown",
   "metadata": {},
   "source": [
    "If you want to have only part of the match returned to you in findall, you can use parenthesis to set a capture point\n",
    "\n",
    "    pattern = 'sads (part to capture) asdjklajsd'\n",
    "    print re.findall(pattern, string) # prints part to capture"
   ]
  },
  {
   "cell_type": "code",
   "execution_count": null,
   "metadata": {},
   "outputs": [],
   "source": [
    "time_pattern = '(\\d\\d):\\d\\d:\\d\\d'\n",
    "hours = re.findall(time_pattern, django_logs)\n",
    "print(sorted(hours))"
   ]
  },
  {
   "cell_type": "code",
   "execution_count": null,
   "metadata": {},
   "outputs": [],
   "source": [
    "# you can capture more than one match\n",
    "time_pattern = '(\\d\\d):(\\d\\d):\\d\\d'\n",
    "times = re.findall(time_pattern, django_logs)\n",
    "print(times)\n",
    "\n",
    "# Unpacking the tuple in the first line\n",
    "for hours, mins in times:\n",
    "    print(\"{} hr {} min\".format(hours, mins))"
   ]
  },
  {
   "cell_type": "markdown",
   "metadata": {},
   "source": [
    "### TRY IT\n",
    "Capture the host of the email address (alphanumerics between @ and .com) **Hint** remember to escape the . in .com"
   ]
  },
  {
   "cell_type": "code",
   "execution_count": null,
   "metadata": {},
   "outputs": [],
   "source": []
  },
  {
   "cell_type": "markdown",
   "metadata": {},
   "source": [
    "## Practice\n",
    "There is a lot more that you can do, but it can feel overwhelming. The best way to learn is with practice. A great way to experiment is this website http://www.regexr.com/ You can put a section of text and see what regexs match patterns in your text. The site also has a cheatsheet for special characters."
   ]
  },
  {
   "cell_type": "code",
   "execution_count": null,
   "metadata": {
    "collapsed": true
   },
   "outputs": [],
   "source": [
    "# Lets try some now"
   ]
  },
  {
   "cell_type": "markdown",
   "metadata": {},
   "source": [
    "# Project: Doc Clerk\n",
    "\n",
    "Let's imagine you are working in a law office. You have millions of e-mails and other documents to go through to see what is relevant to the case. You are going to write a program to go though a file, check for key words (client's name, phone number, defendant's name) and print out the whole paragraph. It should not print any paragraphs with no relevant info. Paragraphs will be separated by an empty line.\n",
    "\n",
    "Your program should match the following items:\n",
    "Gold E. Locks (case insensitive, E. or E)\n",
    "Three bears or 3 bears\n",
    "571 209-4000 (with parens, dashes, or no spaces)\n",
    "\n",
    "\n",
    "0. Import re\n",
    "1. Initialize a variable called paragraph to be an empty list and a variable called found_match to false.\n",
    "2. Create a list of patterns to match and store in variable called patterns\n",
    "3. Read in test file 'evidence.txt'.\n",
    "4. For line in evidence:\n",
    "        a. check if it matches any of the patterns, if so set found_match to true\n",
    "        b. append line to paragraph\n",
    "        c. if line is empty (just a newline character) \n",
    "            - print paragraph if found_match is true **Hint** use the join method to print a string instead of a list\n",
    "            - reset paragraph to empty list and found_match to false\n",
    "        \n"
   ]
  },
  {
   "cell_type": "code",
   "execution_count": null,
   "metadata": {
    "collapsed": true
   },
   "outputs": [],
   "source": []
  }
 ],
 "metadata": {
  "kernelspec": {
   "display_name": "Python 3",
   "language": "python",
   "name": "python3"
  },
  "language_info": {
   "codemirror_mode": {
    "name": "ipython",
    "version": 3
   },
   "file_extension": ".py",
   "mimetype": "text/x-python",
   "name": "python",
   "nbconvert_exporter": "python",
   "pygments_lexer": "ipython3",
   "version": "3.6.1"
  }
 },
 "nbformat": 4,
 "nbformat_minor": 1
}
